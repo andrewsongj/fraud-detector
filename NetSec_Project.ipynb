{
  "nbformat": 4,
  "nbformat_minor": 0,
  "metadata": {
    "colab": {
      "provenance": [],
      "machine_shape": "hm",
      "gpuType": "V100",
      "authorship_tag": "ABX9TyM1fcYDb8mc0DYC/S3z/PaQ",
      "include_colab_link": true
    },
    "kernelspec": {
      "name": "python3",
      "display_name": "Python 3"
    },
    "language_info": {
      "name": "python"
    },
    "accelerator": "GPU"
  },
  "cells": [
    {
      "cell_type": "markdown",
      "metadata": {
        "id": "view-in-github",
        "colab_type": "text"
      },
      "source": [
        "<a href=\"https://colab.research.google.com/github/andrewsongj/fraud-detector/blob/main/NetSec_Project.ipynb\" target=\"_parent\"><img src=\"https://colab.research.google.com/assets/colab-badge.svg\" alt=\"Open In Colab\"/></a>"
      ]
    },
    {
      "cell_type": "code",
      "execution_count": 1,
      "metadata": {
        "id": "dYBzhYDMaV7L"
      },
      "outputs": [],
      "source": [
        "import tensorflow as tf\n",
        "from tensorflow.keras.models import Model\n",
        "from tensorflow.keras.layers import Dense, GlobalAveragePooling2D\n",
        "from tensorflow.keras.optimizers import Adam\n",
        "from sklearn.model_selection import train_test_split\n",
        "import numpy as np\n",
        "import pandas as pd"
      ]
    },
    {
      "cell_type": "code",
      "source": [
        "! pip install -q kaggle\n",
        "\n",
        "from google.colab import files"
      ],
      "metadata": {
        "id": "vXJKn2BFa41C"
      },
      "execution_count": null,
      "outputs": []
    },
    {
      "cell_type": "code",
      "source": [
        "files.upload()"
      ],
      "metadata": {
        "id": "u7KWOTvIbMXj"
      },
      "execution_count": null,
      "outputs": []
    },
    {
      "cell_type": "code",
      "source": [
        "! mkdir ~/.kaggle"
      ],
      "metadata": {
        "id": "gyeJdtEUbPmw"
      },
      "execution_count": null,
      "outputs": []
    },
    {
      "cell_type": "code",
      "source": [
        "! cp kaggle.json ~/.kaggle/"
      ],
      "metadata": {
        "id": "Yt7fQFumbST0"
      },
      "execution_count": null,
      "outputs": []
    },
    {
      "cell_type": "code",
      "source": [
        "! chmod 600 ~/.kaggle/kaggle.json\n",
        "\n"
      ],
      "metadata": {
        "id": "In7Gr15obUw8"
      },
      "execution_count": null,
      "outputs": []
    },
    {
      "cell_type": "code",
      "source": [
        "!kaggle datasets download -d emilynack/aci-iot-network-traffic-dataset-2023"
      ],
      "metadata": {
        "colab": {
          "base_uri": "https://localhost:8080/"
        },
        "id": "BNMGyZkHb8IR",
        "outputId": "3bac9588-f281-4769-e7f8-b69e9754fa48"
      },
      "execution_count": null,
      "outputs": [
        {
          "output_type": "stream",
          "name": "stdout",
          "text": [
            "Downloading aci-iot-network-traffic-dataset-2023.zip to /content\n",
            "100% 32.3G/32.3G [20:55<00:00, 26.0MB/s]\n",
            "100% 32.3G/32.3G [20:55<00:00, 27.6MB/s]\n"
          ]
        }
      ]
    },
    {
      "cell_type": "code",
      "source": [
        "from google.colab import drive\n",
        "drive.mount('/content/drive')"
      ],
      "metadata": {
        "colab": {
          "base_uri": "https://localhost:8080/"
        },
        "id": "TMo7I1LIg5bC",
        "outputId": "6206888c-5c0a-4852-89d2-d0e9244e6abb"
      },
      "execution_count": 2,
      "outputs": [
        {
          "output_type": "stream",
          "name": "stdout",
          "text": [
            "Mounted at /content/drive\n"
          ]
        }
      ]
    },
    {
      "cell_type": "code",
      "source": [
        "!mv aci-iot-network-traffic-datagset-2023.zip /content/drive/MyDrive/"
      ],
      "metadata": {
        "id": "8Ce0E77AbWtl",
        "colab": {
          "base_uri": "https://localhost:8080/"
        },
        "outputId": "023173ee-68fe-401d-937d-d27977bfa9b3"
      },
      "execution_count": null,
      "outputs": [
        {
          "output_type": "stream",
          "name": "stdout",
          "text": [
            "mv: cannot stat 'aci-iot-network-traffic-dataset-2023.zip': No such file or directory\n"
          ]
        }
      ]
    },
    {
      "cell_type": "code",
      "source": [
        "%%capture\n",
        "#!mv aci-iot-network-traffic-dataset-2023.zip /content/drive/MyDrive/\n",
        "import pandas as pd\n",
        "!unzip /content/drive/MyDrive/aci-iot-network-traffic-dataset-2023.zip"
      ],
      "metadata": {
        "id": "KUlSu8lfauug"
      },
      "execution_count": null,
      "outputs": []
    },
    {
      "cell_type": "code",
      "source": [
        "df = pd.read_csv(\"ACI-IoT-2023.csv\")"
      ],
      "metadata": {
        "id": "dmpFHAUeaf2r"
      },
      "execution_count": null,
      "outputs": []
    },
    {
      "cell_type": "code",
      "source": [
        "df.drop([\"Flow Bytes/s\",\"Timestamp\",\"Flow Packets/s\"],axis=1,inplace=True)"
      ],
      "metadata": {
        "id": "CB_EKd3ElJWN"
      },
      "execution_count": null,
      "outputs": []
    },
    {
      "cell_type": "code",
      "source": [
        "selected_labels = ['ICMP Flood', 'Slowloris', 'SYN Flood', 'UDP Flood', 'DNS Flood', 'Benign']\n",
        "df =df[df['Label'].isin(selected_labels)]"
      ],
      "metadata": {
        "id": "L-RlF4SRnfnS"
      },
      "execution_count": null,
      "outputs": []
    },
    {
      "cell_type": "code",
      "source": [
        "features = df.columns.tolist()\n",
        "features.remove(\"Label\")\n",
        "features.remove(\"Flow ID\")\n",
        "features.remove(\"Src IP\")\n",
        "features.remove(\"Dst IP\")\n",
        "X = df[features]\n",
        "y=df['Label']"
      ],
      "metadata": {
        "id": "fCzaPfpclW3-"
      },
      "execution_count": null,
      "outputs": []
    },
    {
      "cell_type": "code",
      "source": [
        "X"
      ],
      "metadata": {
        "colab": {
          "base_uri": "https://localhost:8080/",
          "height": 496
        },
        "id": "S_noeVajqkUM",
        "outputId": "b2272c07-12ad-48d4-d2c2-8bbd59d58e0b"
      },
      "execution_count": null,
      "outputs": [
        {
          "output_type": "execute_result",
          "data": {
            "text/plain": [
              "         Src Port  Dst Port  Protocol  Flow Duration  Total Fwd Packet  \\\n",
              "0           33344       443         6         379933                11   \n",
              "1           36754        80         6         205637                 3   \n",
              "2           36754        80         6              0                 2   \n",
              "3            8080     40426         6        5030379                 1   \n",
              "4           40054        80         6          72278                 3   \n",
              "...           ...       ...       ...            ...               ...   \n",
              "1231406     58126       443         6              1                 2   \n",
              "1231407     30001     47579         6       50077229                 4   \n",
              "1231408         0         0         0       46365348                15   \n",
              "1231409     52046       443         6         146262                15   \n",
              "1231410       443     42604         6           2749                 1   \n",
              "\n",
              "         Total Bwd packets  Total Length of Fwd Packet  \\\n",
              "0                       11                       720.0   \n",
              "1                        3                        87.0   \n",
              "2                        0                         0.0   \n",
              "3                        2                         6.0   \n",
              "4                        4                        87.0   \n",
              "...                    ...                         ...   \n",
              "1231406                  0                        12.0   \n",
              "1231407                  2                       140.0   \n",
              "1231408                  0                         0.0   \n",
              "1231409                 37                     20340.0   \n",
              "1231410                  1                         0.0   \n",
              "\n",
              "         Total Length of Bwd Packet  Fwd Packet Length Max  \\\n",
              "0                            6169.0                  517.0   \n",
              "1                             189.0                   87.0   \n",
              "2                               0.0                    0.0   \n",
              "3                               0.0                    6.0   \n",
              "4                             148.0                   87.0   \n",
              "...                             ...                    ...   \n",
              "1231406                         0.0                    6.0   \n",
              "1231407                       390.0                   70.0   \n",
              "1231408                         0.0                    0.0   \n",
              "1231409                     14242.0                 9327.0   \n",
              "1231410                         6.0                    0.0   \n",
              "\n",
              "         Fwd Packet Length Min  ...  Fwd Seg Size Min   Active Mean  \\\n",
              "0                          0.0  ...                32  0.000000e+00   \n",
              "1                          0.0  ...                32  0.000000e+00   \n",
              "2                          0.0  ...                32  0.000000e+00   \n",
              "3                          6.0  ...                20  0.000000e+00   \n",
              "4                          0.0  ...                32  0.000000e+00   \n",
              "...                        ...  ...               ...           ...   \n",
              "1231406                    6.0  ...                20  0.000000e+00   \n",
              "1231407                    0.0  ...                32  7.708200e+04   \n",
              "1231408                    0.0  ...                 0  3.713166e+06   \n",
              "1231409                    0.0  ...                20  0.000000e+00   \n",
              "1231410                    0.0  ...                20  0.000000e+00   \n",
              "\n",
              "           Active Std  Active Max  Active Min     Idle Mean      Idle Std  \\\n",
              "0        0.000000e+00         0.0         0.0  1.698846e+15  0.000000e+00   \n",
              "1        0.000000e+00         0.0         0.0  1.698846e+15  0.000000e+00   \n",
              "2        0.000000e+00         0.0         0.0  1.698846e+15  0.000000e+00   \n",
              "3        0.000000e+00         0.0         0.0  8.494231e+14  1.201266e+15   \n",
              "4        0.000000e+00         0.0         0.0  1.698846e+15  0.000000e+00   \n",
              "...               ...         ...         ...           ...           ...   \n",
              "1231406  0.000000e+00         0.0         0.0  1.698946e+15  0.000000e+00   \n",
              "1231407  0.000000e+00     77082.0     77082.0  8.494730e+14  1.201336e+15   \n",
              "1231408  3.789721e+06   8045778.0   1014561.0  4.247365e+14  8.494730e+14   \n",
              "1231409  0.000000e+00         0.0         0.0  1.698946e+15  0.000000e+00   \n",
              "1231410  0.000000e+00         0.0         0.0  1.698946e+15  0.000000e+00   \n",
              "\n",
              "             Idle Max      Idle Min  Connection Type  \n",
              "0        1.698846e+15  1.698846e+15            wired  \n",
              "1        1.698846e+15  1.698846e+15            wired  \n",
              "2        1.698846e+15  1.698846e+15            wired  \n",
              "3        1.698846e+15  5.030379e+06            wired  \n",
              "4        1.698846e+15  1.698846e+15            wired  \n",
              "...               ...           ...              ...  \n",
              "1231406  1.698946e+15  1.698946e+15            wired  \n",
              "1231407  1.698946e+15  4.992308e+07            wired  \n",
              "1231408  1.698946e+15  6.831749e+06            wired  \n",
              "1231409  1.698946e+15  1.698946e+15            wired  \n",
              "1231410  1.698946e+15  1.698946e+15            wired  \n",
              "\n",
              "[634755 rows x 78 columns]"
            ],
            "text/html": [
              "\n",
              "  <div id=\"df-07d638bf-7abb-4d00-bfa8-ab9b0d82f055\" class=\"colab-df-container\">\n",
              "    <div>\n",
              "<style scoped>\n",
              "    .dataframe tbody tr th:only-of-type {\n",
              "        vertical-align: middle;\n",
              "    }\n",
              "\n",
              "    .dataframe tbody tr th {\n",
              "        vertical-align: top;\n",
              "    }\n",
              "\n",
              "    .dataframe thead th {\n",
              "        text-align: right;\n",
              "    }\n",
              "</style>\n",
              "<table border=\"1\" class=\"dataframe\">\n",
              "  <thead>\n",
              "    <tr style=\"text-align: right;\">\n",
              "      <th></th>\n",
              "      <th>Src Port</th>\n",
              "      <th>Dst Port</th>\n",
              "      <th>Protocol</th>\n",
              "      <th>Flow Duration</th>\n",
              "      <th>Total Fwd Packet</th>\n",
              "      <th>Total Bwd packets</th>\n",
              "      <th>Total Length of Fwd Packet</th>\n",
              "      <th>Total Length of Bwd Packet</th>\n",
              "      <th>Fwd Packet Length Max</th>\n",
              "      <th>Fwd Packet Length Min</th>\n",
              "      <th>...</th>\n",
              "      <th>Fwd Seg Size Min</th>\n",
              "      <th>Active Mean</th>\n",
              "      <th>Active Std</th>\n",
              "      <th>Active Max</th>\n",
              "      <th>Active Min</th>\n",
              "      <th>Idle Mean</th>\n",
              "      <th>Idle Std</th>\n",
              "      <th>Idle Max</th>\n",
              "      <th>Idle Min</th>\n",
              "      <th>Connection Type</th>\n",
              "    </tr>\n",
              "  </thead>\n",
              "  <tbody>\n",
              "    <tr>\n",
              "      <th>0</th>\n",
              "      <td>33344</td>\n",
              "      <td>443</td>\n",
              "      <td>6</td>\n",
              "      <td>379933</td>\n",
              "      <td>11</td>\n",
              "      <td>11</td>\n",
              "      <td>720.0</td>\n",
              "      <td>6169.0</td>\n",
              "      <td>517.0</td>\n",
              "      <td>0.0</td>\n",
              "      <td>...</td>\n",
              "      <td>32</td>\n",
              "      <td>0.000000e+00</td>\n",
              "      <td>0.000000e+00</td>\n",
              "      <td>0.0</td>\n",
              "      <td>0.0</td>\n",
              "      <td>1.698846e+15</td>\n",
              "      <td>0.000000e+00</td>\n",
              "      <td>1.698846e+15</td>\n",
              "      <td>1.698846e+15</td>\n",
              "      <td>wired</td>\n",
              "    </tr>\n",
              "    <tr>\n",
              "      <th>1</th>\n",
              "      <td>36754</td>\n",
              "      <td>80</td>\n",
              "      <td>6</td>\n",
              "      <td>205637</td>\n",
              "      <td>3</td>\n",
              "      <td>3</td>\n",
              "      <td>87.0</td>\n",
              "      <td>189.0</td>\n",
              "      <td>87.0</td>\n",
              "      <td>0.0</td>\n",
              "      <td>...</td>\n",
              "      <td>32</td>\n",
              "      <td>0.000000e+00</td>\n",
              "      <td>0.000000e+00</td>\n",
              "      <td>0.0</td>\n",
              "      <td>0.0</td>\n",
              "      <td>1.698846e+15</td>\n",
              "      <td>0.000000e+00</td>\n",
              "      <td>1.698846e+15</td>\n",
              "      <td>1.698846e+15</td>\n",
              "      <td>wired</td>\n",
              "    </tr>\n",
              "    <tr>\n",
              "      <th>2</th>\n",
              "      <td>36754</td>\n",
              "      <td>80</td>\n",
              "      <td>6</td>\n",
              "      <td>0</td>\n",
              "      <td>2</td>\n",
              "      <td>0</td>\n",
              "      <td>0.0</td>\n",
              "      <td>0.0</td>\n",
              "      <td>0.0</td>\n",
              "      <td>0.0</td>\n",
              "      <td>...</td>\n",
              "      <td>32</td>\n",
              "      <td>0.000000e+00</td>\n",
              "      <td>0.000000e+00</td>\n",
              "      <td>0.0</td>\n",
              "      <td>0.0</td>\n",
              "      <td>1.698846e+15</td>\n",
              "      <td>0.000000e+00</td>\n",
              "      <td>1.698846e+15</td>\n",
              "      <td>1.698846e+15</td>\n",
              "      <td>wired</td>\n",
              "    </tr>\n",
              "    <tr>\n",
              "      <th>3</th>\n",
              "      <td>8080</td>\n",
              "      <td>40426</td>\n",
              "      <td>6</td>\n",
              "      <td>5030379</td>\n",
              "      <td>1</td>\n",
              "      <td>2</td>\n",
              "      <td>6.0</td>\n",
              "      <td>0.0</td>\n",
              "      <td>6.0</td>\n",
              "      <td>6.0</td>\n",
              "      <td>...</td>\n",
              "      <td>20</td>\n",
              "      <td>0.000000e+00</td>\n",
              "      <td>0.000000e+00</td>\n",
              "      <td>0.0</td>\n",
              "      <td>0.0</td>\n",
              "      <td>8.494231e+14</td>\n",
              "      <td>1.201266e+15</td>\n",
              "      <td>1.698846e+15</td>\n",
              "      <td>5.030379e+06</td>\n",
              "      <td>wired</td>\n",
              "    </tr>\n",
              "    <tr>\n",
              "      <th>4</th>\n",
              "      <td>40054</td>\n",
              "      <td>80</td>\n",
              "      <td>6</td>\n",
              "      <td>72278</td>\n",
              "      <td>3</td>\n",
              "      <td>4</td>\n",
              "      <td>87.0</td>\n",
              "      <td>148.0</td>\n",
              "      <td>87.0</td>\n",
              "      <td>0.0</td>\n",
              "      <td>...</td>\n",
              "      <td>32</td>\n",
              "      <td>0.000000e+00</td>\n",
              "      <td>0.000000e+00</td>\n",
              "      <td>0.0</td>\n",
              "      <td>0.0</td>\n",
              "      <td>1.698846e+15</td>\n",
              "      <td>0.000000e+00</td>\n",
              "      <td>1.698846e+15</td>\n",
              "      <td>1.698846e+15</td>\n",
              "      <td>wired</td>\n",
              "    </tr>\n",
              "    <tr>\n",
              "      <th>...</th>\n",
              "      <td>...</td>\n",
              "      <td>...</td>\n",
              "      <td>...</td>\n",
              "      <td>...</td>\n",
              "      <td>...</td>\n",
              "      <td>...</td>\n",
              "      <td>...</td>\n",
              "      <td>...</td>\n",
              "      <td>...</td>\n",
              "      <td>...</td>\n",
              "      <td>...</td>\n",
              "      <td>...</td>\n",
              "      <td>...</td>\n",
              "      <td>...</td>\n",
              "      <td>...</td>\n",
              "      <td>...</td>\n",
              "      <td>...</td>\n",
              "      <td>...</td>\n",
              "      <td>...</td>\n",
              "      <td>...</td>\n",
              "      <td>...</td>\n",
              "    </tr>\n",
              "    <tr>\n",
              "      <th>1231406</th>\n",
              "      <td>58126</td>\n",
              "      <td>443</td>\n",
              "      <td>6</td>\n",
              "      <td>1</td>\n",
              "      <td>2</td>\n",
              "      <td>0</td>\n",
              "      <td>12.0</td>\n",
              "      <td>0.0</td>\n",
              "      <td>6.0</td>\n",
              "      <td>6.0</td>\n",
              "      <td>...</td>\n",
              "      <td>20</td>\n",
              "      <td>0.000000e+00</td>\n",
              "      <td>0.000000e+00</td>\n",
              "      <td>0.0</td>\n",
              "      <td>0.0</td>\n",
              "      <td>1.698946e+15</td>\n",
              "      <td>0.000000e+00</td>\n",
              "      <td>1.698946e+15</td>\n",
              "      <td>1.698946e+15</td>\n",
              "      <td>wired</td>\n",
              "    </tr>\n",
              "    <tr>\n",
              "      <th>1231407</th>\n",
              "      <td>30001</td>\n",
              "      <td>47579</td>\n",
              "      <td>6</td>\n",
              "      <td>50077229</td>\n",
              "      <td>4</td>\n",
              "      <td>2</td>\n",
              "      <td>140.0</td>\n",
              "      <td>390.0</td>\n",
              "      <td>70.0</td>\n",
              "      <td>0.0</td>\n",
              "      <td>...</td>\n",
              "      <td>32</td>\n",
              "      <td>7.708200e+04</td>\n",
              "      <td>0.000000e+00</td>\n",
              "      <td>77082.0</td>\n",
              "      <td>77082.0</td>\n",
              "      <td>8.494730e+14</td>\n",
              "      <td>1.201336e+15</td>\n",
              "      <td>1.698946e+15</td>\n",
              "      <td>4.992308e+07</td>\n",
              "      <td>wired</td>\n",
              "    </tr>\n",
              "    <tr>\n",
              "      <th>1231408</th>\n",
              "      <td>0</td>\n",
              "      <td>0</td>\n",
              "      <td>0</td>\n",
              "      <td>46365348</td>\n",
              "      <td>15</td>\n",
              "      <td>0</td>\n",
              "      <td>0.0</td>\n",
              "      <td>0.0</td>\n",
              "      <td>0.0</td>\n",
              "      <td>0.0</td>\n",
              "      <td>...</td>\n",
              "      <td>0</td>\n",
              "      <td>3.713166e+06</td>\n",
              "      <td>3.789721e+06</td>\n",
              "      <td>8045778.0</td>\n",
              "      <td>1014561.0</td>\n",
              "      <td>4.247365e+14</td>\n",
              "      <td>8.494730e+14</td>\n",
              "      <td>1.698946e+15</td>\n",
              "      <td>6.831749e+06</td>\n",
              "      <td>wired</td>\n",
              "    </tr>\n",
              "    <tr>\n",
              "      <th>1231409</th>\n",
              "      <td>52046</td>\n",
              "      <td>443</td>\n",
              "      <td>6</td>\n",
              "      <td>146262</td>\n",
              "      <td>15</td>\n",
              "      <td>37</td>\n",
              "      <td>20340.0</td>\n",
              "      <td>14242.0</td>\n",
              "      <td>9327.0</td>\n",
              "      <td>0.0</td>\n",
              "      <td>...</td>\n",
              "      <td>20</td>\n",
              "      <td>0.000000e+00</td>\n",
              "      <td>0.000000e+00</td>\n",
              "      <td>0.0</td>\n",
              "      <td>0.0</td>\n",
              "      <td>1.698946e+15</td>\n",
              "      <td>0.000000e+00</td>\n",
              "      <td>1.698946e+15</td>\n",
              "      <td>1.698946e+15</td>\n",
              "      <td>wired</td>\n",
              "    </tr>\n",
              "    <tr>\n",
              "      <th>1231410</th>\n",
              "      <td>443</td>\n",
              "      <td>42604</td>\n",
              "      <td>6</td>\n",
              "      <td>2749</td>\n",
              "      <td>1</td>\n",
              "      <td>1</td>\n",
              "      <td>0.0</td>\n",
              "      <td>6.0</td>\n",
              "      <td>0.0</td>\n",
              "      <td>0.0</td>\n",
              "      <td>...</td>\n",
              "      <td>20</td>\n",
              "      <td>0.000000e+00</td>\n",
              "      <td>0.000000e+00</td>\n",
              "      <td>0.0</td>\n",
              "      <td>0.0</td>\n",
              "      <td>1.698946e+15</td>\n",
              "      <td>0.000000e+00</td>\n",
              "      <td>1.698946e+15</td>\n",
              "      <td>1.698946e+15</td>\n",
              "      <td>wired</td>\n",
              "    </tr>\n",
              "  </tbody>\n",
              "</table>\n",
              "<p>634755 rows × 78 columns</p>\n",
              "</div>\n",
              "    <div class=\"colab-df-buttons\">\n",
              "\n",
              "  <div class=\"colab-df-container\">\n",
              "    <button class=\"colab-df-convert\" onclick=\"convertToInteractive('df-07d638bf-7abb-4d00-bfa8-ab9b0d82f055')\"\n",
              "            title=\"Convert this dataframe to an interactive table.\"\n",
              "            style=\"display:none;\">\n",
              "\n",
              "  <svg xmlns=\"http://www.w3.org/2000/svg\" height=\"24px\" viewBox=\"0 -960 960 960\">\n",
              "    <path d=\"M120-120v-720h720v720H120Zm60-500h600v-160H180v160Zm220 220h160v-160H400v160Zm0 220h160v-160H400v160ZM180-400h160v-160H180v160Zm440 0h160v-160H620v160ZM180-180h160v-160H180v160Zm440 0h160v-160H620v160Z\"/>\n",
              "  </svg>\n",
              "    </button>\n",
              "\n",
              "  <style>\n",
              "    .colab-df-container {\n",
              "      display:flex;\n",
              "      gap: 12px;\n",
              "    }\n",
              "\n",
              "    .colab-df-convert {\n",
              "      background-color: #E8F0FE;\n",
              "      border: none;\n",
              "      border-radius: 50%;\n",
              "      cursor: pointer;\n",
              "      display: none;\n",
              "      fill: #1967D2;\n",
              "      height: 32px;\n",
              "      padding: 0 0 0 0;\n",
              "      width: 32px;\n",
              "    }\n",
              "\n",
              "    .colab-df-convert:hover {\n",
              "      background-color: #E2EBFA;\n",
              "      box-shadow: 0px 1px 2px rgba(60, 64, 67, 0.3), 0px 1px 3px 1px rgba(60, 64, 67, 0.15);\n",
              "      fill: #174EA6;\n",
              "    }\n",
              "\n",
              "    .colab-df-buttons div {\n",
              "      margin-bottom: 4px;\n",
              "    }\n",
              "\n",
              "    [theme=dark] .colab-df-convert {\n",
              "      background-color: #3B4455;\n",
              "      fill: #D2E3FC;\n",
              "    }\n",
              "\n",
              "    [theme=dark] .colab-df-convert:hover {\n",
              "      background-color: #434B5C;\n",
              "      box-shadow: 0px 1px 3px 1px rgba(0, 0, 0, 0.15);\n",
              "      filter: drop-shadow(0px 1px 2px rgba(0, 0, 0, 0.3));\n",
              "      fill: #FFFFFF;\n",
              "    }\n",
              "  </style>\n",
              "\n",
              "    <script>\n",
              "      const buttonEl =\n",
              "        document.querySelector('#df-07d638bf-7abb-4d00-bfa8-ab9b0d82f055 button.colab-df-convert');\n",
              "      buttonEl.style.display =\n",
              "        google.colab.kernel.accessAllowed ? 'block' : 'none';\n",
              "\n",
              "      async function convertToInteractive(key) {\n",
              "        const element = document.querySelector('#df-07d638bf-7abb-4d00-bfa8-ab9b0d82f055');\n",
              "        const dataTable =\n",
              "          await google.colab.kernel.invokeFunction('convertToInteractive',\n",
              "                                                    [key], {});\n",
              "        if (!dataTable) return;\n",
              "\n",
              "        const docLinkHtml = 'Like what you see? Visit the ' +\n",
              "          '<a target=\"_blank\" href=https://colab.research.google.com/notebooks/data_table.ipynb>data table notebook</a>'\n",
              "          + ' to learn more about interactive tables.';\n",
              "        element.innerHTML = '';\n",
              "        dataTable['output_type'] = 'display_data';\n",
              "        await google.colab.output.renderOutput(dataTable, element);\n",
              "        const docLink = document.createElement('div');\n",
              "        docLink.innerHTML = docLinkHtml;\n",
              "        element.appendChild(docLink);\n",
              "      }\n",
              "    </script>\n",
              "  </div>\n",
              "\n",
              "\n",
              "<div id=\"df-8b58734b-1b85-4ba0-900c-49795da78db1\">\n",
              "  <button class=\"colab-df-quickchart\" onclick=\"quickchart('df-8b58734b-1b85-4ba0-900c-49795da78db1')\"\n",
              "            title=\"Suggest charts\"\n",
              "            style=\"display:none;\">\n",
              "\n",
              "<svg xmlns=\"http://www.w3.org/2000/svg\" height=\"24px\"viewBox=\"0 0 24 24\"\n",
              "     width=\"24px\">\n",
              "    <g>\n",
              "        <path d=\"M19 3H5c-1.1 0-2 .9-2 2v14c0 1.1.9 2 2 2h14c1.1 0 2-.9 2-2V5c0-1.1-.9-2-2-2zM9 17H7v-7h2v7zm4 0h-2V7h2v10zm4 0h-2v-4h2v4z\"/>\n",
              "    </g>\n",
              "</svg>\n",
              "  </button>\n",
              "\n",
              "<style>\n",
              "  .colab-df-quickchart {\n",
              "      --bg-color: #E8F0FE;\n",
              "      --fill-color: #1967D2;\n",
              "      --hover-bg-color: #E2EBFA;\n",
              "      --hover-fill-color: #174EA6;\n",
              "      --disabled-fill-color: #AAA;\n",
              "      --disabled-bg-color: #DDD;\n",
              "  }\n",
              "\n",
              "  [theme=dark] .colab-df-quickchart {\n",
              "      --bg-color: #3B4455;\n",
              "      --fill-color: #D2E3FC;\n",
              "      --hover-bg-color: #434B5C;\n",
              "      --hover-fill-color: #FFFFFF;\n",
              "      --disabled-bg-color: #3B4455;\n",
              "      --disabled-fill-color: #666;\n",
              "  }\n",
              "\n",
              "  .colab-df-quickchart {\n",
              "    background-color: var(--bg-color);\n",
              "    border: none;\n",
              "    border-radius: 50%;\n",
              "    cursor: pointer;\n",
              "    display: none;\n",
              "    fill: var(--fill-color);\n",
              "    height: 32px;\n",
              "    padding: 0;\n",
              "    width: 32px;\n",
              "  }\n",
              "\n",
              "  .colab-df-quickchart:hover {\n",
              "    background-color: var(--hover-bg-color);\n",
              "    box-shadow: 0 1px 2px rgba(60, 64, 67, 0.3), 0 1px 3px 1px rgba(60, 64, 67, 0.15);\n",
              "    fill: var(--button-hover-fill-color);\n",
              "  }\n",
              "\n",
              "  .colab-df-quickchart-complete:disabled,\n",
              "  .colab-df-quickchart-complete:disabled:hover {\n",
              "    background-color: var(--disabled-bg-color);\n",
              "    fill: var(--disabled-fill-color);\n",
              "    box-shadow: none;\n",
              "  }\n",
              "\n",
              "  .colab-df-spinner {\n",
              "    border: 2px solid var(--fill-color);\n",
              "    border-color: transparent;\n",
              "    border-bottom-color: var(--fill-color);\n",
              "    animation:\n",
              "      spin 1s steps(1) infinite;\n",
              "  }\n",
              "\n",
              "  @keyframes spin {\n",
              "    0% {\n",
              "      border-color: transparent;\n",
              "      border-bottom-color: var(--fill-color);\n",
              "      border-left-color: var(--fill-color);\n",
              "    }\n",
              "    20% {\n",
              "      border-color: transparent;\n",
              "      border-left-color: var(--fill-color);\n",
              "      border-top-color: var(--fill-color);\n",
              "    }\n",
              "    30% {\n",
              "      border-color: transparent;\n",
              "      border-left-color: var(--fill-color);\n",
              "      border-top-color: var(--fill-color);\n",
              "      border-right-color: var(--fill-color);\n",
              "    }\n",
              "    40% {\n",
              "      border-color: transparent;\n",
              "      border-right-color: var(--fill-color);\n",
              "      border-top-color: var(--fill-color);\n",
              "    }\n",
              "    60% {\n",
              "      border-color: transparent;\n",
              "      border-right-color: var(--fill-color);\n",
              "    }\n",
              "    80% {\n",
              "      border-color: transparent;\n",
              "      border-right-color: var(--fill-color);\n",
              "      border-bottom-color: var(--fill-color);\n",
              "    }\n",
              "    90% {\n",
              "      border-color: transparent;\n",
              "      border-bottom-color: var(--fill-color);\n",
              "    }\n",
              "  }\n",
              "</style>\n",
              "\n",
              "  <script>\n",
              "    async function quickchart(key) {\n",
              "      const quickchartButtonEl =\n",
              "        document.querySelector('#' + key + ' button');\n",
              "      quickchartButtonEl.disabled = true;  // To prevent multiple clicks.\n",
              "      quickchartButtonEl.classList.add('colab-df-spinner');\n",
              "      try {\n",
              "        const charts = await google.colab.kernel.invokeFunction(\n",
              "            'suggestCharts', [key], {});\n",
              "      } catch (error) {\n",
              "        console.error('Error during call to suggestCharts:', error);\n",
              "      }\n",
              "      quickchartButtonEl.classList.remove('colab-df-spinner');\n",
              "      quickchartButtonEl.classList.add('colab-df-quickchart-complete');\n",
              "    }\n",
              "    (() => {\n",
              "      let quickchartButtonEl =\n",
              "        document.querySelector('#df-8b58734b-1b85-4ba0-900c-49795da78db1 button');\n",
              "      quickchartButtonEl.style.display =\n",
              "        google.colab.kernel.accessAllowed ? 'block' : 'none';\n",
              "    })();\n",
              "  </script>\n",
              "</div>\n",
              "\n",
              "  <div id=\"id_cbdc686c-dd97-48a7-9385-2cab4df5dfff\">\n",
              "    <style>\n",
              "      .colab-df-generate {\n",
              "        background-color: #E8F0FE;\n",
              "        border: none;\n",
              "        border-radius: 50%;\n",
              "        cursor: pointer;\n",
              "        display: none;\n",
              "        fill: #1967D2;\n",
              "        height: 32px;\n",
              "        padding: 0 0 0 0;\n",
              "        width: 32px;\n",
              "      }\n",
              "\n",
              "      .colab-df-generate:hover {\n",
              "        background-color: #E2EBFA;\n",
              "        box-shadow: 0px 1px 2px rgba(60, 64, 67, 0.3), 0px 1px 3px 1px rgba(60, 64, 67, 0.15);\n",
              "        fill: #174EA6;\n",
              "      }\n",
              "\n",
              "      [theme=dark] .colab-df-generate {\n",
              "        background-color: #3B4455;\n",
              "        fill: #D2E3FC;\n",
              "      }\n",
              "\n",
              "      [theme=dark] .colab-df-generate:hover {\n",
              "        background-color: #434B5C;\n",
              "        box-shadow: 0px 1px 3px 1px rgba(0, 0, 0, 0.15);\n",
              "        filter: drop-shadow(0px 1px 2px rgba(0, 0, 0, 0.3));\n",
              "        fill: #FFFFFF;\n",
              "      }\n",
              "    </style>\n",
              "    <button class=\"colab-df-generate\" onclick=\"generateWithVariable('X')\"\n",
              "            title=\"Generate code using this dataframe.\"\n",
              "            style=\"display:none;\">\n",
              "\n",
              "  <svg xmlns=\"http://www.w3.org/2000/svg\" height=\"24px\"viewBox=\"0 0 24 24\"\n",
              "       width=\"24px\">\n",
              "    <path d=\"M7,19H8.4L18.45,9,17,7.55,7,17.6ZM5,21V16.75L18.45,3.32a2,2,0,0,1,2.83,0l1.4,1.43a1.91,1.91,0,0,1,.58,1.4,1.91,1.91,0,0,1-.58,1.4L9.25,21ZM18.45,9,17,7.55Zm-12,3A5.31,5.31,0,0,0,4.9,8.1,5.31,5.31,0,0,0,1,6.5,5.31,5.31,0,0,0,4.9,4.9,5.31,5.31,0,0,0,6.5,1,5.31,5.31,0,0,0,8.1,4.9,5.31,5.31,0,0,0,12,6.5,5.46,5.46,0,0,0,6.5,12Z\"/>\n",
              "  </svg>\n",
              "    </button>\n",
              "    <script>\n",
              "      (() => {\n",
              "      const buttonEl =\n",
              "        document.querySelector('#id_cbdc686c-dd97-48a7-9385-2cab4df5dfff button.colab-df-generate');\n",
              "      buttonEl.style.display =\n",
              "        google.colab.kernel.accessAllowed ? 'block' : 'none';\n",
              "\n",
              "      buttonEl.onclick = () => {\n",
              "        google.colab.notebook.generateWithVariable('X');\n",
              "      }\n",
              "      })();\n",
              "    </script>\n",
              "  </div>\n",
              "\n",
              "    </div>\n",
              "  </div>\n"
            ],
            "application/vnd.google.colaboratory.intrinsic+json": {
              "type": "dataframe",
              "variable_name": "X"
            }
          },
          "metadata": {},
          "execution_count": 87
        }
      ]
    },
    {
      "cell_type": "code",
      "source": [
        "\n",
        "import pandas as pd\n",
        "X = pd.get_dummies(X, columns=[\"Connection Type\"],dtype=int)\n"
      ],
      "metadata": {
        "id": "La66pLs2qLn2"
      },
      "execution_count": null,
      "outputs": []
    },
    {
      "cell_type": "code",
      "source": [
        "\n",
        "X_train, X_test, y_train, y_test = train_test_split(X, y, test_size=0.4, random_state=0, stratify=y)\n",
        "from sklearn.preprocessing import LabelEncoder\n",
        "\n",
        "encoder = LabelEncoder()\n",
        "y_train_encoded = encoder.fit_transform(y_train)\n",
        "y_test_encoded = encoder.transform(y_test)\n",
        "from sklearn.preprocessing import StandardScaler\n",
        "\n",
        "scaler = StandardScaler()\n",
        "X_train_scaled = scaler.fit_transform(X_train)\n",
        "X_test_scaled = scaler.transform(X_test)\n"
      ],
      "metadata": {
        "id": "XxJGbGLAqqu_"
      },
      "execution_count": null,
      "outputs": []
    },
    {
      "cell_type": "code",
      "source": [
        "import tensorflow as tf\n",
        "from tensorflow.keras.models import Sequential\n",
        "from tensorflow.keras.layers import Dense, Dropout\n",
        "from tensorflow.keras.layers import BatchNormalization\n",
        "\n",
        "\n",
        "# Build the model\n",
        "model = Sequential([\n",
        "    Dense(256, activation='relu', input_shape=(X_train_scaled.shape[1],)),\n",
        "    Dropout(0.3),\n",
        "    Dense(128, activation='relu'),\n",
        "    Dropout(0,3)\n",
        "\n",
        "    Dense(64, activation='relu'),\n",
        "    Dense(len(encoder.classes_), activation='softmax')  # Output layer\n",
        "])\n",
        "\n",
        "model.compile(optimizer='adam',\n",
        "              loss='sparse_categorical_crossentropy',\n",
        "              metrics=['accuracy'])\n",
        "\n",
        "model.summary()\n"
      ],
      "metadata": {
        "colab": {
          "base_uri": "https://localhost:8080/"
        },
        "id": "J204LIezrkb0",
        "outputId": "64d22d26-adb5-4a9e-c6f6-9547283dfab2"
      },
      "execution_count": null,
      "outputs": [
        {
          "output_type": "stream",
          "name": "stdout",
          "text": [
            "Model: \"sequential\"\n",
            "_________________________________________________________________\n",
            " Layer (type)                Output Shape              Param #   \n",
            "=================================================================\n",
            " dense_16 (Dense)            (None, 256)               20480     \n",
            "                                                                 \n",
            " dropout_1 (Dropout)         (None, 256)               0         \n",
            "                                                                 \n",
            " dense_17 (Dense)            (None, 128)               32896     \n",
            "                                                                 \n",
            " dropout_2 (Dropout)         (None, 128)               0         \n",
            "                                                                 \n",
            " dense_18 (Dense)            (None, 64)                8256      \n",
            "                                                                 \n",
            " dense_19 (Dense)            (None, 6)                 390       \n",
            "                                                                 \n",
            "=================================================================\n",
            "Total params: 62022 (242.27 KB)\n",
            "Trainable params: 62022 (242.27 KB)\n",
            "Non-trainable params: 0 (0.00 Byte)\n",
            "_________________________________________________________________\n"
          ]
        }
      ]
    },
    {
      "cell_type": "code",
      "source": [
        "from tensorflow.keras.models import Sequential\n",
        "from tensorflow.keras.layers import Dense, Dropout, BatchNormalization\n",
        "from tensorflow.keras.optimizers import Adam\n",
        "\n",
        "model = Sequential([\n",
        "        Dense(256, activation='relu', input_shape=(X_train_scaled.shape[1],)),\n",
        "        BatchNormalization(),\n",
        "        Dense(128, activation='relu'),\n",
        "        Dropout(0.5),\n",
        "        BatchNormalization(),\n",
        "        Dense(64, activation='relu'),\n",
        "        Dense(len(encoder.classes_), activation='softmax')  # Output layer\n",
        "    ])\n",
        "optimizer = Adam(learning_rate=0.001)\n",
        "model.compile(optimizer=optimizer, loss='sparse_categorical_crossentropy', metrics=['accuracy'])\n",
        "\n"
      ],
      "metadata": {
        "id": "mT7YKDQ48u4f"
      },
      "execution_count": null,
      "outputs": []
    },
    {
      "cell_type": "code",
      "source": [
        "history = model.fit(X_train_scaled, y_train_encoded, epochs=10, batch_size=32, validation_split=0.2)\n",
        "test_loss, test_acc = model.evaluate(X_test_scaled, y_test_encoded)\n",
        "print(f\"Test Accuracy: {test_acc}\")"
      ],
      "metadata": {
        "colab": {
          "base_uri": "https://localhost:8080/"
        },
        "id": "bDNjM9ews3O6",
        "outputId": "06ba90b4-166d-4250-a5fb-0f7e2683af73"
      },
      "execution_count": null,
      "outputs": [
        {
          "output_type": "stream",
          "name": "stdout",
          "text": [
            "Epoch 1/10\n",
            "9522/9522 [==============================] - 47s 5ms/step - loss: 0.0497 - accuracy: 0.9848 - val_loss: 0.0714 - val_accuracy: 0.9740\n",
            "Epoch 2/10\n",
            "9522/9522 [==============================] - 45s 5ms/step - loss: 0.0223 - accuracy: 0.9941 - val_loss: 0.0159 - val_accuracy: 0.9959\n",
            "Epoch 3/10\n",
            "9522/9522 [==============================] - 46s 5ms/step - loss: 0.0189 - accuracy: 0.9951 - val_loss: 0.1137 - val_accuracy: 0.9708\n",
            "Epoch 4/10\n",
            "9522/9522 [==============================] - 46s 5ms/step - loss: 0.0198 - accuracy: 0.9946 - val_loss: 0.0116 - val_accuracy: 0.9967\n",
            "Epoch 5/10\n",
            "9522/9522 [==============================] - 46s 5ms/step - loss: 0.0164 - accuracy: 0.9955 - val_loss: 0.0172 - val_accuracy: 0.9963\n",
            "Epoch 6/10\n",
            "9522/9522 [==============================] - 46s 5ms/step - loss: 0.0157 - accuracy: 0.9958 - val_loss: 0.0110 - val_accuracy: 0.9971\n",
            "Epoch 7/10\n",
            "9522/9522 [==============================] - 45s 5ms/step - loss: 0.0148 - accuracy: 0.9961 - val_loss: 0.0103 - val_accuracy: 0.9970\n",
            "Epoch 8/10\n",
            "9522/9522 [==============================] - 45s 5ms/step - loss: 0.0138 - accuracy: 0.9963 - val_loss: 0.0314 - val_accuracy: 0.9831\n",
            "Epoch 9/10\n",
            "9522/9522 [==============================] - 46s 5ms/step - loss: 0.0144 - accuracy: 0.9962 - val_loss: 0.0123 - val_accuracy: 0.9965\n",
            "Epoch 10/10\n",
            "9522/9522 [==============================] - 46s 5ms/step - loss: 0.0139 - accuracy: 0.9963 - val_loss: 0.0115 - val_accuracy: 0.9971\n",
            "7935/7935 [==============================] - 17s 2ms/step - loss: 0.0264 - accuracy: 0.9972\n",
            "Test Accuracy: 0.9972193837165833\n"
          ]
        }
      ]
    },
    {
      "cell_type": "code",
      "source": [
        "model.save('/content/drive/MyDrive/my_network_model.h5')  # Saves as a single HDF5 file"
      ],
      "metadata": {
        "id": "NTuahQBvy6QP"
      },
      "execution_count": null,
      "outputs": []
    },
    {
      "cell_type": "markdown",
      "source": [],
      "metadata": {
        "id": "MJrBRazz3S5Y"
      }
    },
    {
      "cell_type": "code",
      "source": [
        "from tensorflow.keras.models import load_model\n",
        "base_model = tf.keras.models.load_model('/content/drive/MyDrive/my_network_model.h5')\n",
        "\n"
      ],
      "metadata": {
        "id": "brn_RO393N77"
      },
      "execution_count": 36,
      "outputs": []
    },
    {
      "cell_type": "code",
      "source": [
        "for layer in base_model.layers[:-1]:\n",
        "    layer.trainable = False\n",
        "\n",
        "# Print the trainable status of each layer\n",
        "for layer in base_model.layers:\n",
        "    print(layer, layer.trainable)"
      ],
      "metadata": {
        "colab": {
          "base_uri": "https://localhost:8080/"
        },
        "id": "oWK9HIszHzZT",
        "outputId": "8b30cbee-4e6d-4d65-fb32-d255b685ce42"
      },
      "execution_count": 37,
      "outputs": [
        {
          "output_type": "stream",
          "name": "stdout",
          "text": [
            "<keras.src.layers.core.dense.Dense object at 0x78a6443756c0> False\n",
            "<keras.src.layers.regularization.dropout.Dropout object at 0x78a6443757e0> False\n",
            "<keras.src.layers.core.dense.Dense object at 0x78a64431a1d0> False\n",
            "<keras.src.layers.regularization.dropout.Dropout object at 0x78a644359060> False\n",
            "<keras.src.layers.core.dense.Dense object at 0x78a644332620> False\n",
            "<keras.src.layers.core.dense.Dense object at 0x78a76348abc0> True\n"
          ]
        }
      ]
    },
    {
      "cell_type": "code",
      "source": [
        "#!kaggle datasets download -d cicdataset/cicids2017"
      ],
      "metadata": {
        "id": "1AZ3YrcAELgm"
      },
      "execution_count": 38,
      "outputs": []
    },
    {
      "cell_type": "code",
      "source": [
        "#!mv cicids2017.zip /content/drive/MyDrive/"
      ],
      "metadata": {
        "id": "RXa0XAVtFDst"
      },
      "execution_count": 39,
      "outputs": []
    },
    {
      "cell_type": "code",
      "source": [
        "#!unzip /content/drive/MyDrive/cicids2017.zip"
      ],
      "metadata": {
        "colab": {
          "base_uri": "https://localhost:8080/"
        },
        "id": "M_7qXxH4E1B6",
        "outputId": "93e1e86a-3765-49f0-cfcc-53c4993e70af"
      },
      "execution_count": 40,
      "outputs": [
        {
          "output_type": "stream",
          "name": "stdout",
          "text": [
            "Archive:  /content/drive/MyDrive/cicids2017.zip\n",
            "replace MachineLearningCSV.md5? [y]es, [n]o, [A]ll, [N]one, [r]ename: "
          ]
        }
      ]
    },
    {
      "cell_type": "code",
      "source": [
        "pd.set_option('display.max_columns', None)\n",
        "pd.set_option('display.max_rows', None)\n",
        "nRowsRead = None\n",
        "\n",
        "df1 = pd.read_csv(\"MachineLearningCSV/MachineLearningCVE/Friday-WorkingHours-Afternoon-DDos.pcap_ISCX.csv\")\n",
        "df2=pd.read_csv(\"MachineLearningCSV/MachineLearningCVE/Friday-WorkingHours-Afternoon-PortScan.pcap_ISCX.csv\")\n",
        "df3=pd.read_csv(\"MachineLearningCSV/MachineLearningCVE/Friday-WorkingHours-Morning.pcap_ISCX.csv\")\n",
        "df4=pd.read_csv(\"MachineLearningCSV/MachineLearningCVE/Monday-WorkingHours.pcap_ISCX.csv\")\n",
        "df5=pd.read_csv(\"MachineLearningCSV/MachineLearningCVE/Thursday-WorkingHours-Afternoon-Infilteration.pcap_ISCX.csv\")\n",
        "df6=pd.read_csv(\"MachineLearningCSV/MachineLearningCVE/Thursday-WorkingHours-Morning-WebAttacks.pcap_ISCX.csv\")\n",
        "df7=pd.read_csv(\"MachineLearningCSV/MachineLearningCVE/Tuesday-WorkingHours.pcap_ISCX.csv\")\n",
        "df8=pd.read_csv(\"MachineLearningCSV/MachineLearningCVE/Wednesday-workingHours.pcap_ISCX.csv\")\n",
        "\n",
        "\n",
        "df = pd.concat([df1,df2])\n",
        "del df1,df2\n",
        "df = pd.concat([df,df3])\n",
        "del df3\n",
        "df = pd.concat([df,df4])\n",
        "del df4\n",
        "df = pd.concat([df,df5])\n",
        "del df5\n",
        "df = pd.concat([df,df6])\n",
        "del df6\n",
        "df = pd.concat([df,df7])\n",
        "del df7\n",
        "df = pd.concat([df,df8])\n",
        "del df8"
      ],
      "metadata": {
        "id": "bPudUwlvFJ3r"
      },
      "execution_count": 42,
      "outputs": []
    },
    {
      "cell_type": "code",
      "source": [
        "df.columns"
      ],
      "metadata": {
        "colab": {
          "base_uri": "https://localhost:8080/"
        },
        "id": "VcHfhF15FjSz",
        "outputId": "d03d43ef-8bf8-485c-8426-7da3cae603e6"
      },
      "execution_count": 43,
      "outputs": [
        {
          "output_type": "execute_result",
          "data": {
            "text/plain": [
              "Index([' Destination Port', ' Flow Duration', ' Total Fwd Packets',\n",
              "       ' Total Backward Packets', 'Total Length of Fwd Packets',\n",
              "       ' Total Length of Bwd Packets', ' Fwd Packet Length Max',\n",
              "       ' Fwd Packet Length Min', ' Fwd Packet Length Mean',\n",
              "       ' Fwd Packet Length Std', 'Bwd Packet Length Max',\n",
              "       ' Bwd Packet Length Min', ' Bwd Packet Length Mean',\n",
              "       ' Bwd Packet Length Std', 'Flow Bytes/s', ' Flow Packets/s',\n",
              "       ' Flow IAT Mean', ' Flow IAT Std', ' Flow IAT Max', ' Flow IAT Min',\n",
              "       'Fwd IAT Total', ' Fwd IAT Mean', ' Fwd IAT Std', ' Fwd IAT Max',\n",
              "       ' Fwd IAT Min', 'Bwd IAT Total', ' Bwd IAT Mean', ' Bwd IAT Std',\n",
              "       ' Bwd IAT Max', ' Bwd IAT Min', 'Fwd PSH Flags', ' Bwd PSH Flags',\n",
              "       ' Fwd URG Flags', ' Bwd URG Flags', ' Fwd Header Length',\n",
              "       ' Bwd Header Length', 'Fwd Packets/s', ' Bwd Packets/s',\n",
              "       ' Min Packet Length', ' Max Packet Length', ' Packet Length Mean',\n",
              "       ' Packet Length Std', ' Packet Length Variance', 'FIN Flag Count',\n",
              "       ' SYN Flag Count', ' RST Flag Count', ' PSH Flag Count',\n",
              "       ' ACK Flag Count', ' URG Flag Count', ' CWE Flag Count',\n",
              "       ' ECE Flag Count', ' Down/Up Ratio', ' Average Packet Size',\n",
              "       ' Avg Fwd Segment Size', ' Avg Bwd Segment Size',\n",
              "       ' Fwd Header Length.1', 'Fwd Avg Bytes/Bulk', ' Fwd Avg Packets/Bulk',\n",
              "       ' Fwd Avg Bulk Rate', ' Bwd Avg Bytes/Bulk', ' Bwd Avg Packets/Bulk',\n",
              "       'Bwd Avg Bulk Rate', 'Subflow Fwd Packets', ' Subflow Fwd Bytes',\n",
              "       ' Subflow Bwd Packets', ' Subflow Bwd Bytes', 'Init_Win_bytes_forward',\n",
              "       ' Init_Win_bytes_backward', ' act_data_pkt_fwd',\n",
              "       ' min_seg_size_forward', 'Active Mean', ' Active Std', ' Active Max',\n",
              "       ' Active Min', 'Idle Mean', ' Idle Std', ' Idle Max', ' Idle Min',\n",
              "       ' Label'],\n",
              "      dtype='object')"
            ]
          },
          "metadata": {},
          "execution_count": 43
        }
      ]
    },
    {
      "cell_type": "code",
      "source": [
        "features = df.columns.tolist()\n",
        "features.remove(' Label')\n",
        "X = df[features]\n",
        "y=df[' Label']\n"
      ],
      "metadata": {
        "id": "_Bc5ND2mFrJ-"
      },
      "execution_count": 44,
      "outputs": []
    },
    {
      "cell_type": "code",
      "source": [
        "X_train, X_test, y_train, y_test = train_test_split(X, y, test_size=0.2, random_state=0, stratify=y)\n"
      ],
      "metadata": {
        "id": "9qqiGvcZIZhq"
      },
      "execution_count": 45,
      "outputs": []
    },
    {
      "cell_type": "code",
      "source": [
        "X_train.shape"
      ],
      "metadata": {
        "colab": {
          "base_uri": "https://localhost:8080/"
        },
        "id": "vuKR5smSBNFu",
        "outputId": "16f10924-14f8-434f-d6cb-e3e8877aaca5"
      },
      "execution_count": 46,
      "outputs": [
        {
          "output_type": "execute_result",
          "data": {
            "text/plain": [
              "(2264594, 78)"
            ]
          },
          "metadata": {},
          "execution_count": 46
        }
      ]
    },
    {
      "cell_type": "code",
      "source": [
        "print(X_train.dtypes)  # This will show the data type of each column\n",
        "float_columns = X_train.select_dtypes(include=['float64']).columns\n"
      ],
      "metadata": {
        "colab": {
          "base_uri": "https://localhost:8080/"
        },
        "id": "JZoRk13HK-5E",
        "outputId": "201d885c-5c3f-4e99-fa67-a3f76bdd55e6"
      },
      "execution_count": 47,
      "outputs": [
        {
          "output_type": "stream",
          "name": "stdout",
          "text": [
            " Destination Port                 int64\n",
            " Flow Duration                    int64\n",
            " Total Fwd Packets                int64\n",
            " Total Backward Packets           int64\n",
            "Total Length of Fwd Packets       int64\n",
            " Total Length of Bwd Packets      int64\n",
            " Fwd Packet Length Max            int64\n",
            " Fwd Packet Length Min            int64\n",
            " Fwd Packet Length Mean         float64\n",
            " Fwd Packet Length Std          float64\n",
            "Bwd Packet Length Max             int64\n",
            " Bwd Packet Length Min            int64\n",
            " Bwd Packet Length Mean         float64\n",
            " Bwd Packet Length Std          float64\n",
            "Flow Bytes/s                    float64\n",
            " Flow Packets/s                 float64\n",
            " Flow IAT Mean                  float64\n",
            " Flow IAT Std                   float64\n",
            " Flow IAT Max                     int64\n",
            " Flow IAT Min                     int64\n",
            "Fwd IAT Total                     int64\n",
            " Fwd IAT Mean                   float64\n",
            " Fwd IAT Std                    float64\n",
            " Fwd IAT Max                      int64\n",
            " Fwd IAT Min                      int64\n",
            "Bwd IAT Total                     int64\n",
            " Bwd IAT Mean                   float64\n",
            " Bwd IAT Std                    float64\n",
            " Bwd IAT Max                      int64\n",
            " Bwd IAT Min                      int64\n",
            "Fwd PSH Flags                     int64\n",
            " Bwd PSH Flags                    int64\n",
            " Fwd URG Flags                    int64\n",
            " Bwd URG Flags                    int64\n",
            " Fwd Header Length                int64\n",
            " Bwd Header Length                int64\n",
            "Fwd Packets/s                   float64\n",
            " Bwd Packets/s                  float64\n",
            " Min Packet Length                int64\n",
            " Max Packet Length                int64\n",
            " Packet Length Mean             float64\n",
            " Packet Length Std              float64\n",
            " Packet Length Variance         float64\n",
            "FIN Flag Count                    int64\n",
            " SYN Flag Count                   int64\n",
            " RST Flag Count                   int64\n",
            " PSH Flag Count                   int64\n",
            " ACK Flag Count                   int64\n",
            " URG Flag Count                   int64\n",
            " CWE Flag Count                   int64\n",
            " ECE Flag Count                   int64\n",
            " Down/Up Ratio                    int64\n",
            " Average Packet Size            float64\n",
            " Avg Fwd Segment Size           float64\n",
            " Avg Bwd Segment Size           float64\n",
            " Fwd Header Length.1              int64\n",
            "Fwd Avg Bytes/Bulk                int64\n",
            " Fwd Avg Packets/Bulk             int64\n",
            " Fwd Avg Bulk Rate                int64\n",
            " Bwd Avg Bytes/Bulk               int64\n",
            " Bwd Avg Packets/Bulk             int64\n",
            "Bwd Avg Bulk Rate                 int64\n",
            "Subflow Fwd Packets               int64\n",
            " Subflow Fwd Bytes                int64\n",
            " Subflow Bwd Packets              int64\n",
            " Subflow Bwd Bytes                int64\n",
            "Init_Win_bytes_forward            int64\n",
            " Init_Win_bytes_backward          int64\n",
            " act_data_pkt_fwd                 int64\n",
            " min_seg_size_forward             int64\n",
            "Active Mean                     float64\n",
            " Active Std                     float64\n",
            " Active Max                       int64\n",
            " Active Min                       int64\n",
            "Idle Mean                       float64\n",
            " Idle Std                       float64\n",
            " Idle Max                         int64\n",
            " Idle Min                         int64\n",
            "dtype: object\n"
          ]
        }
      ]
    },
    {
      "cell_type": "code",
      "source": [
        "import numpy as np\n",
        "\n",
        "# Checking and replacing 'inf' with NaN\n",
        "X_train_nan = np.where(np.isinf(X_train), np.nan, X_train)\n",
        "X_test_nan = np.where(np.isinf(X_test), np.nan, X_test)\n",
        "\n",
        "# Handling NaN values by imputing with the mean or median of the column\n",
        "from sklearn.impute import SimpleImputer\n",
        "imputer = SimpleImputer(strategy='mean')  # or strategy='median'\n",
        "\n",
        "X_train_imputed = imputer.fit_transform(X_train_nan)\n",
        "X_test_imputed = imputer.transform(X_test_nan)\n",
        "\n",
        "X_train_imputed = pd.DataFrame(X_train_imputed, columns=X_train.columns)\n",
        "X_test_imputed = pd.DataFrame(X_test_imputed, columns=X_test.columns)\n",
        "\n",
        "X_train_imputed[float_columns] = X_train_imputed[float_columns].round().astype('int64')\n",
        "X_test_imputed[float_columns] = X_test_imputed[float_columns].round().astype('int64')"
      ],
      "metadata": {
        "id": "mKo1THVqIUQQ"
      },
      "execution_count": 48,
      "outputs": []
    },
    {
      "cell_type": "code",
      "source": [
        "from sklearn.preprocessing import StandardScaler\n",
        "\n",
        "scaler = StandardScaler()\n",
        "X_train_scaled = scaler.fit_transform(X_train_imputed)\n",
        "X_test_scaled = scaler.transform(X_test_imputed)"
      ],
      "metadata": {
        "id": "imREac2XHyW_"
      },
      "execution_count": 49,
      "outputs": []
    },
    {
      "cell_type": "code",
      "source": [
        "from sklearn.preprocessing import LabelEncoder\n",
        "\n",
        "encoder = LabelEncoder()\n",
        "y_train_encoded = encoder.fit_transform(y_train)\n",
        "y_test_encoded = encoder.transform(y_test)"
      ],
      "metadata": {
        "id": "m2lkOsQEIkeJ"
      },
      "execution_count": 50,
      "outputs": []
    },
    {
      "cell_type": "code",
      "source": [
        "num_features = X_train_scaled.shape\n",
        "num_classes = len(np.unique(y_train_encoded))"
      ],
      "metadata": {
        "id": "xZVTickjIt_f"
      },
      "execution_count": 51,
      "outputs": []
    },
    {
      "cell_type": "code",
      "source": [
        "from tensorflow.keras.layers import Dense\n",
        "\n",
        "\n",
        "base_model.pop()  # Removes the last layer\n",
        "base_model.add(Dense(num_classes, activation='softmax'))  # Add a new output layer"
      ],
      "metadata": {
        "id": "UQk8aRtkJ0P-"
      },
      "execution_count": 52,
      "outputs": []
    },
    {
      "cell_type": "code",
      "source": [
        "from tensorflow.keras.models import Sequential\n",
        "new_model = Sequential()\n",
        "new_model.add(Dense(256, activation='relu', input_shape=(X_train_scaled.shape[1],)))\n",
        "\n",
        "\n",
        "# Add all other layers from the original model except the input\n",
        "for layer in base_model.layers[1:]:\n",
        "    new_model.add(layer)\n"
      ],
      "metadata": {
        "id": "9FavmKSYJRPR"
      },
      "execution_count": 53,
      "outputs": []
    },
    {
      "cell_type": "code",
      "source": [
        "for layer in new_model.layers[:-1]:  # Freeze all but the new output layer\n",
        "    layer.trainable = False"
      ],
      "metadata": {
        "id": "vm0Wm6UrOLyb"
      },
      "execution_count": 54,
      "outputs": []
    },
    {
      "cell_type": "code",
      "source": [
        "from tensorflow.keras.optimizers import Adam\n",
        "\n",
        "# Recompile the model\n",
        "new_model.compile(optimizer=Adam(learning_rate=0.0001), loss='sparse_categorical_crossentropy', metrics=['accuracy'])\n",
        "\n",
        "\n",
        "history = new_model.fit(X_train_scaled, y_train_encoded, epochs=50, batch_size=500, validation_split=0.2)\n",
        "test_loss, test_acc = new_model.evaluate(X_test_scaled, y_test_encoded)\n",
        "print(f\"Test Accuracy: {test_acc}\")"
      ],
      "metadata": {
        "colab": {
          "base_uri": "https://localhost:8080/"
        },
        "id": "-l5U8btBI2G6",
        "outputId": "8a66b939-8222-4514-cdf5-7ee6a770e362"
      },
      "execution_count": 55,
      "outputs": [
        {
          "output_type": "stream",
          "name": "stdout",
          "text": [
            "Epoch 1/50\n",
            "3624/3624 [==============================] - 12s 3ms/step - loss: 2.5779 - accuracy: 0.5061 - val_loss: 1.1185 - val_accuracy: 0.8353\n",
            "Epoch 2/50\n",
            "3624/3624 [==============================] - 10s 3ms/step - loss: 1.0032 - accuracy: 0.8211 - val_loss: 0.8278 - val_accuracy: 0.8358\n",
            "Epoch 3/50\n",
            "3624/3624 [==============================] - 10s 3ms/step - loss: 0.8329 - accuracy: 0.8250 - val_loss: 0.7347 - val_accuracy: 0.8402\n",
            "Epoch 4/50\n",
            "3624/3624 [==============================] - 10s 3ms/step - loss: 0.7535 - accuracy: 0.8269 - val_loss: 0.6939 - val_accuracy: 0.8348\n",
            "Epoch 5/50\n",
            "3624/3624 [==============================] - 10s 3ms/step - loss: 0.7065 - accuracy: 0.8270 - val_loss: 0.6690 - val_accuracy: 0.8346\n",
            "Epoch 6/50\n",
            "3624/3624 [==============================] - 11s 3ms/step - loss: 0.6827 - accuracy: 0.8262 - val_loss: 0.6567 - val_accuracy: 0.8345\n",
            "Epoch 7/50\n",
            "3624/3624 [==============================] - 10s 3ms/step - loss: 0.6690 - accuracy: 0.8259 - val_loss: 0.6475 - val_accuracy: 0.8378\n",
            "Epoch 8/50\n",
            "3624/3624 [==============================] - 10s 3ms/step - loss: 0.6610 - accuracy: 0.8258 - val_loss: 0.6429 - val_accuracy: 0.8340\n",
            "Epoch 9/50\n",
            "3624/3624 [==============================] - 10s 3ms/step - loss: 0.6538 - accuracy: 0.8261 - val_loss: 0.6388 - val_accuracy: 0.8346\n",
            "Epoch 10/50\n",
            "3624/3624 [==============================] - 10s 3ms/step - loss: 0.6489 - accuracy: 0.8262 - val_loss: 0.6372 - val_accuracy: 0.8314\n",
            "Epoch 11/50\n",
            "3624/3624 [==============================] - 11s 3ms/step - loss: 0.6454 - accuracy: 0.8260 - val_loss: 0.6342 - val_accuracy: 0.8324\n",
            "Epoch 12/50\n",
            "3624/3624 [==============================] - 10s 3ms/step - loss: 0.6442 - accuracy: 0.8259 - val_loss: 0.6331 - val_accuracy: 0.8323\n",
            "Epoch 13/50\n",
            "3624/3624 [==============================] - 11s 3ms/step - loss: 0.6419 - accuracy: 0.8262 - val_loss: 0.6324 - val_accuracy: 0.8326\n",
            "Epoch 14/50\n",
            "3624/3624 [==============================] - 10s 3ms/step - loss: 0.6406 - accuracy: 0.8263 - val_loss: 0.6311 - val_accuracy: 0.8314\n",
            "Epoch 15/50\n",
            "3624/3624 [==============================] - 11s 3ms/step - loss: 0.6392 - accuracy: 0.8262 - val_loss: 0.6295 - val_accuracy: 0.8354\n",
            "Epoch 16/50\n",
            "3624/3624 [==============================] - 11s 3ms/step - loss: 0.6393 - accuracy: 0.8263 - val_loss: 0.6305 - val_accuracy: 0.8320\n",
            "Epoch 17/50\n",
            "3624/3624 [==============================] - 10s 3ms/step - loss: 0.6381 - accuracy: 0.8260 - val_loss: 0.6303 - val_accuracy: 0.8311\n",
            "Epoch 18/50\n",
            "3624/3624 [==============================] - 10s 3ms/step - loss: 0.6383 - accuracy: 0.8264 - val_loss: 0.6321 - val_accuracy: 0.8263\n",
            "Epoch 19/50\n",
            "3624/3624 [==============================] - 10s 3ms/step - loss: 0.6372 - accuracy: 0.8263 - val_loss: 0.6291 - val_accuracy: 0.8338\n",
            "Epoch 20/50\n",
            "3624/3624 [==============================] - 11s 3ms/step - loss: 0.6371 - accuracy: 0.8265 - val_loss: 0.6301 - val_accuracy: 0.8320\n",
            "Epoch 21/50\n",
            "3624/3624 [==============================] - 10s 3ms/step - loss: 0.6369 - accuracy: 0.8261 - val_loss: 0.6306 - val_accuracy: 0.8297\n",
            "Epoch 22/50\n",
            "3624/3624 [==============================] - 10s 3ms/step - loss: 0.6363 - accuracy: 0.8263 - val_loss: 0.6277 - val_accuracy: 0.8388\n",
            "Epoch 23/50\n",
            "3624/3624 [==============================] - 10s 3ms/step - loss: 0.6370 - accuracy: 0.8263 - val_loss: 0.6288 - val_accuracy: 0.8343\n",
            "Epoch 24/50\n",
            "3624/3624 [==============================] - 10s 3ms/step - loss: 0.6370 - accuracy: 0.8262 - val_loss: 0.6293 - val_accuracy: 0.8339\n",
            "Epoch 25/50\n",
            "3624/3624 [==============================] - 11s 3ms/step - loss: 0.6366 - accuracy: 0.8264 - val_loss: 0.6291 - val_accuracy: 0.8329\n",
            "Epoch 26/50\n",
            "3624/3624 [==============================] - 10s 3ms/step - loss: 0.6356 - accuracy: 0.8265 - val_loss: 0.6275 - val_accuracy: 0.8360\n",
            "Epoch 27/50\n",
            "3624/3624 [==============================] - 10s 3ms/step - loss: 0.6366 - accuracy: 0.8263 - val_loss: 0.6282 - val_accuracy: 0.8350\n",
            "Epoch 28/50\n",
            "3624/3624 [==============================] - 11s 3ms/step - loss: 0.6353 - accuracy: 0.8266 - val_loss: 0.6285 - val_accuracy: 0.8344\n",
            "Epoch 29/50\n",
            "3624/3624 [==============================] - 11s 3ms/step - loss: 0.6359 - accuracy: 0.8264 - val_loss: 0.6287 - val_accuracy: 0.8326\n",
            "Epoch 30/50\n",
            "3624/3624 [==============================] - 10s 3ms/step - loss: 0.6356 - accuracy: 0.8265 - val_loss: 0.6280 - val_accuracy: 0.8343\n",
            "Epoch 31/50\n",
            "3624/3624 [==============================] - 10s 3ms/step - loss: 0.6353 - accuracy: 0.8265 - val_loss: 0.6281 - val_accuracy: 0.8353\n",
            "Epoch 32/50\n",
            "3624/3624 [==============================] - 11s 3ms/step - loss: 0.6365 - accuracy: 0.8261 - val_loss: 0.6288 - val_accuracy: 0.8322\n",
            "Epoch 33/50\n",
            "3624/3624 [==============================] - 10s 3ms/step - loss: 0.6359 - accuracy: 0.8262 - val_loss: 0.6299 - val_accuracy: 0.8294\n",
            "Epoch 34/50\n",
            "3624/3624 [==============================] - 10s 3ms/step - loss: 0.6362 - accuracy: 0.8262 - val_loss: 0.6299 - val_accuracy: 0.8307\n",
            "Epoch 35/50\n",
            "3624/3624 [==============================] - 10s 3ms/step - loss: 0.6367 - accuracy: 0.8261 - val_loss: 0.6293 - val_accuracy: 0.8315\n",
            "Epoch 36/50\n",
            "3624/3624 [==============================] - 10s 3ms/step - loss: 0.6354 - accuracy: 0.8263 - val_loss: 0.6272 - val_accuracy: 0.8381\n",
            "Epoch 37/50\n",
            "3624/3624 [==============================] - 10s 3ms/step - loss: 0.6356 - accuracy: 0.8264 - val_loss: 0.6284 - val_accuracy: 0.8317\n",
            "Epoch 38/50\n",
            "3624/3624 [==============================] - 10s 3ms/step - loss: 0.6353 - accuracy: 0.8265 - val_loss: 0.6316 - val_accuracy: 0.8235\n",
            "Epoch 39/50\n",
            "3624/3624 [==============================] - 10s 3ms/step - loss: 0.6361 - accuracy: 0.8262 - val_loss: 0.6271 - val_accuracy: 0.8371\n",
            "Epoch 40/50\n",
            "3624/3624 [==============================] - 10s 3ms/step - loss: 0.6363 - accuracy: 0.8263 - val_loss: 0.6280 - val_accuracy: 0.8341\n",
            "Epoch 41/50\n",
            "3624/3624 [==============================] - 10s 3ms/step - loss: 0.6353 - accuracy: 0.8264 - val_loss: 0.6259 - val_accuracy: 0.8391\n",
            "Epoch 42/50\n",
            "3624/3624 [==============================] - 10s 3ms/step - loss: 0.6359 - accuracy: 0.8264 - val_loss: 0.6280 - val_accuracy: 0.8331\n",
            "Epoch 43/50\n",
            "3624/3624 [==============================] - 10s 3ms/step - loss: 0.6357 - accuracy: 0.8262 - val_loss: 0.6296 - val_accuracy: 0.8287\n",
            "Epoch 44/50\n",
            "3624/3624 [==============================] - 11s 3ms/step - loss: 0.6359 - accuracy: 0.8262 - val_loss: 0.6271 - val_accuracy: 0.8366\n",
            "Epoch 45/50\n",
            "3624/3624 [==============================] - 10s 3ms/step - loss: 0.6360 - accuracy: 0.8261 - val_loss: 0.6285 - val_accuracy: 0.8315\n",
            "Epoch 46/50\n",
            "3624/3624 [==============================] - 10s 3ms/step - loss: 0.6349 - accuracy: 0.8263 - val_loss: 0.6272 - val_accuracy: 0.8368\n",
            "Epoch 47/50\n",
            "3624/3624 [==============================] - 10s 3ms/step - loss: 0.6357 - accuracy: 0.8264 - val_loss: 0.6280 - val_accuracy: 0.8332\n",
            "Epoch 48/50\n",
            "3624/3624 [==============================] - 10s 3ms/step - loss: 0.6355 - accuracy: 0.8263 - val_loss: 0.6281 - val_accuracy: 0.8337\n",
            "Epoch 49/50\n",
            "3624/3624 [==============================] - 10s 3ms/step - loss: 0.6352 - accuracy: 0.8262 - val_loss: 0.6270 - val_accuracy: 0.8349\n",
            "Epoch 50/50\n",
            "3624/3624 [==============================] - 10s 3ms/step - loss: 0.6351 - accuracy: 0.8264 - val_loss: 0.6277 - val_accuracy: 0.8333\n",
            "17693/17693 [==============================] - 34s 2ms/step - loss: 0.6331 - accuracy: 0.8324\n",
            "Test Accuracy: 0.8323603868484497\n"
          ]
        }
      ]
    },
    {
      "cell_type": "code",
      "source": [
        "#!kaggle datasets download -d azalhowaide/iot-dataset-for-intrusion-detection-systems-ids\n"
      ],
      "metadata": {
        "id": "eU2RiTKz3i9f"
      },
      "execution_count": 56,
      "outputs": []
    },
    {
      "cell_type": "code",
      "source": [
        "%%capture\n",
        "#!mv iot-dataset-for-intrusion-detection-systems-ids.zip /content/drive/MyDrive/\n",
        "import pandas as pd\n",
        "#!unzip /content/drive/MyDrive/iot-dataset-for-intrusion-detection-systems-ids.zip"
      ],
      "metadata": {
        "id": "CGJeNdhXCt3G"
      },
      "execution_count": 57,
      "outputs": []
    },
    {
      "cell_type": "code",
      "source": [
        "iot = pd.read_csv('BoTNeTIoT-L01-v2.csv')"
      ],
      "metadata": {
        "id": "b9b5v-_lC3r0"
      },
      "execution_count": 58,
      "outputs": []
    },
    {
      "cell_type": "code",
      "source": [
        "iot.columns"
      ],
      "metadata": {
        "colab": {
          "base_uri": "https://localhost:8080/"
        },
        "id": "RMuv89z-DOiB",
        "outputId": "396ae7ef-f36c-4907-8518-db60c8025d6c"
      },
      "execution_count": 59,
      "outputs": [
        {
          "output_type": "execute_result",
          "data": {
            "text/plain": [
              "Index(['MI_dir_L0.1_weight', 'MI_dir_L0.1_mean', 'MI_dir_L0.1_variance',\n",
              "       'H_L0.1_weight', 'H_L0.1_mean', 'H_L0.1_variance', 'HH_L0.1_weight',\n",
              "       'HH_L0.1_mean', 'HH_L0.1_std', 'HH_L0.1_magnitude', 'HH_L0.1_radius',\n",
              "       'HH_L0.1_covariance', 'HH_L0.1_pcc', 'HH_jit_L0.1_weight',\n",
              "       'HH_jit_L0.1_mean', 'HH_jit_L0.1_variance', 'HpHp_L0.1_weight',\n",
              "       'HpHp_L0.1_mean', 'HpHp_L0.1_std', 'HpHp_L0.1_magnitude',\n",
              "       'HpHp_L0.1_radius', 'HpHp_L0.1_covariance', 'HpHp_L0.1_pcc',\n",
              "       'Device_Name', 'Attack', 'Attack_subType', 'label'],\n",
              "      dtype='object')"
            ]
          },
          "metadata": {},
          "execution_count": 59
        }
      ]
    },
    {
      "cell_type": "code",
      "source": [
        "features = iot.columns.tolist()\n",
        "features.remove('label')\n",
        "features.remove('Attack')\n",
        "features.remove('Attack_subType')\n",
        "features.remove('Device_Name')\n",
        "X = iot[features]\n",
        "y=iot['Attack']"
      ],
      "metadata": {
        "id": "73tNN_ZyDq8X"
      },
      "execution_count": 60,
      "outputs": []
    },
    {
      "cell_type": "code",
      "source": [
        "X_train, X_test, y_train, y_test = train_test_split(X, y, test_size=0.2, random_state=0, stratify=y)\n"
      ],
      "metadata": {
        "id": "qvS7axsvE06s"
      },
      "execution_count": 61,
      "outputs": []
    },
    {
      "cell_type": "code",
      "source": [
        "float_columns = X_train.select_dtypes(include=['float64']).columns\n",
        "# Checking and replacing 'inf' with NaN\n",
        "X_train_nan = np.where(np.isinf(X_train), np.nan, X_train)\n",
        "X_test_nan = np.where(np.isinf(X_test), np.nan, X_test)\n",
        "\n",
        "# Handling NaN values by imputing with the mean or median of the column\n",
        "from sklearn.impute import SimpleImputer\n",
        "imputer = SimpleImputer(strategy='mean')  # or strategy='median'\n",
        "\n",
        "X_train_imputed = imputer.fit_transform(X_train_nan)\n",
        "X_test_imputed = imputer.transform(X_test_nan)\n",
        "\n",
        "X_train_imputed = pd.DataFrame(X_train_imputed, columns=X_train.columns)\n",
        "X_test_imputed = pd.DataFrame(X_test_imputed, columns=X_test.columns)\n",
        "\n",
        "X_train_imputed[float_columns] = X_train_imputed[float_columns].round().astype('int64')\n",
        "X_test_imputed[float_columns] = X_test_imputed[float_columns].round().astype('int64')\n"
      ],
      "metadata": {
        "id": "y85EwCvaE1Gv"
      },
      "execution_count": 62,
      "outputs": []
    },
    {
      "cell_type": "code",
      "source": [
        "from sklearn.preprocessing import StandardScaler\n",
        "\n",
        "scaler = StandardScaler()\n",
        "X_train_scaled = scaler.fit_transform(X_train_imputed)\n",
        "X_test_scaled = scaler.transform(X_test_imputed)"
      ],
      "metadata": {
        "id": "pHxXwKhQE_Od"
      },
      "execution_count": 63,
      "outputs": []
    },
    {
      "cell_type": "code",
      "source": [
        "from sklearn.preprocessing import LabelEncoder\n",
        "\n",
        "encoder = LabelEncoder()\n",
        "y_train_encoded = encoder.fit_transform(y_train)\n",
        "y_test_encoded = encoder.transform(y_test)"
      ],
      "metadata": {
        "id": "_FmrA2GoFCLe"
      },
      "execution_count": 64,
      "outputs": []
    },
    {
      "cell_type": "code",
      "source": [
        "num_features = X_train_scaled.shape\n",
        "num_classes = len(np.unique(y_train_encoded))\n",
        "from tensorflow.keras.models import load_model\n",
        "base_model = tf.keras.models.load_model('/content/drive/MyDrive/my_network_model.h5')"
      ],
      "metadata": {
        "id": "sMnuJankFFmZ"
      },
      "execution_count": 65,
      "outputs": []
    },
    {
      "cell_type": "code",
      "source": [
        "from tensorflow.keras.layers import Dense\n",
        "\n",
        "\n",
        "base_model.pop()  # Removes the last layer\n",
        "base_model.add(Dense(num_classes, activation='softmax'))  # Add a new output layer\n",
        "\n",
        "from tensorflow.keras.models import Sequential\n",
        "new_model = Sequential()\n",
        "new_model.add(Dense(256, activation='relu', input_shape=(X_train_scaled.shape[1],)))\n",
        "\n",
        "\n",
        "# Add all other layers from the original model except the input\n",
        "for layer in base_model.layers[1:]:\n",
        "    new_model.add(layer)\n"
      ],
      "metadata": {
        "id": "fKx2xzjMFH9E"
      },
      "execution_count": 66,
      "outputs": []
    },
    {
      "cell_type": "code",
      "source": [
        "for layer in new_model.layers[:-1]:  # Freeze all but the new output layer\n",
        "    layer.trainable = False"
      ],
      "metadata": {
        "id": "_lllSwrYFM-v"
      },
      "execution_count": 67,
      "outputs": []
    },
    {
      "cell_type": "code",
      "source": [
        "from tensorflow.keras.optimizers import Adam\n",
        "\n",
        "# Recompile the model\n",
        "new_model.compile(optimizer=Adam(learning_rate=0.0001), loss='sparse_categorical_crossentropy', metrics=['accuracy'])\n",
        "\n",
        "# Assuming you have your new dataset loaded and prepared in X_train, y_train, etc.\n",
        "# Train the model (only the unfrozen layers will be updated)\n",
        "history = new_model.fit(X_train_scaled, y_train_encoded, epochs=50, batch_size=500, validation_split=0.2)\n",
        "test_loss, test_acc = new_model.evaluate(X_test_scaled, y_test_encoded)\n",
        "print(f\"Test Accuracy: {test_acc}\")"
      ],
      "metadata": {
        "colab": {
          "base_uri": "https://localhost:8080/"
        },
        "id": "RbYvgtJsFPxX",
        "outputId": "0b1248de-6636-465b-b64a-6f776085de95"
      },
      "execution_count": 68,
      "outputs": [
        {
          "output_type": "stream",
          "name": "stdout",
          "text": [
            "Epoch 1/50\n",
            "9041/9041 [==============================] - 27s 3ms/step - loss: 0.9690 - accuracy: 0.6162 - val_loss: 0.6734 - val_accuracy: 0.7141\n",
            "Epoch 2/50\n",
            "9041/9041 [==============================] - 25s 3ms/step - loss: 0.7363 - accuracy: 0.6921 - val_loss: 0.6524 - val_accuracy: 0.7155\n",
            "Epoch 3/50\n",
            "9041/9041 [==============================] - 25s 3ms/step - loss: 0.7323 - accuracy: 0.6920 - val_loss: 0.6553 - val_accuracy: 0.7157\n",
            "Epoch 4/50\n",
            "9041/9041 [==============================] - 25s 3ms/step - loss: 0.7322 - accuracy: 0.6919 - val_loss: 0.6556 - val_accuracy: 0.7157\n",
            "Epoch 5/50\n",
            "9041/9041 [==============================] - 25s 3ms/step - loss: 0.7324 - accuracy: 0.6920 - val_loss: 0.6539 - val_accuracy: 0.7156\n",
            "Epoch 6/50\n",
            "9041/9041 [==============================] - 25s 3ms/step - loss: 0.7320 - accuracy: 0.6920 - val_loss: 0.6552 - val_accuracy: 0.7156\n",
            "Epoch 7/50\n",
            "9041/9041 [==============================] - 25s 3ms/step - loss: 0.7319 - accuracy: 0.6924 - val_loss: 0.6542 - val_accuracy: 0.7158\n",
            "Epoch 8/50\n",
            "9041/9041 [==============================] - 25s 3ms/step - loss: 0.7324 - accuracy: 0.6920 - val_loss: 0.6579 - val_accuracy: 0.7157\n",
            "Epoch 9/50\n",
            "9041/9041 [==============================] - 25s 3ms/step - loss: 0.7321 - accuracy: 0.6919 - val_loss: 0.6564 - val_accuracy: 0.7156\n",
            "Epoch 10/50\n",
            "9041/9041 [==============================] - 25s 3ms/step - loss: 0.7320 - accuracy: 0.6922 - val_loss: 0.6542 - val_accuracy: 0.7158\n",
            "Epoch 11/50\n",
            "9041/9041 [==============================] - 25s 3ms/step - loss: 0.7326 - accuracy: 0.6922 - val_loss: 0.6559 - val_accuracy: 0.7158\n",
            "Epoch 12/50\n",
            "9041/9041 [==============================] - 25s 3ms/step - loss: 0.7316 - accuracy: 0.6925 - val_loss: 0.6534 - val_accuracy: 0.7158\n",
            "Epoch 13/50\n",
            "9041/9041 [==============================] - 25s 3ms/step - loss: 0.7319 - accuracy: 0.6925 - val_loss: 0.6554 - val_accuracy: 0.7154\n",
            "Epoch 14/50\n",
            "9041/9041 [==============================] - 25s 3ms/step - loss: 0.7318 - accuracy: 0.6924 - val_loss: 0.6530 - val_accuracy: 0.7157\n",
            "Epoch 15/50\n",
            "9041/9041 [==============================] - 25s 3ms/step - loss: 0.7320 - accuracy: 0.6920 - val_loss: 0.6535 - val_accuracy: 0.7154\n",
            "Epoch 16/50\n",
            "9041/9041 [==============================] - 25s 3ms/step - loss: 0.7313 - accuracy: 0.6926 - val_loss: 0.6515 - val_accuracy: 0.7157\n",
            "Epoch 17/50\n",
            "9041/9041 [==============================] - 25s 3ms/step - loss: 0.7318 - accuracy: 0.6925 - val_loss: 0.6517 - val_accuracy: 0.7157\n",
            "Epoch 18/50\n",
            "9041/9041 [==============================] - 25s 3ms/step - loss: 0.7317 - accuracy: 0.6925 - val_loss: 0.6573 - val_accuracy: 0.7155\n",
            "Epoch 19/50\n",
            "9041/9041 [==============================] - 25s 3ms/step - loss: 0.7320 - accuracy: 0.6921 - val_loss: 0.6546 - val_accuracy: 0.7158\n",
            "Epoch 20/50\n",
            "9041/9041 [==============================] - 26s 3ms/step - loss: 0.7321 - accuracy: 0.6920 - val_loss: 0.6557 - val_accuracy: 0.7158\n",
            "Epoch 21/50\n",
            "9041/9041 [==============================] - 25s 3ms/step - loss: 0.7325 - accuracy: 0.6920 - val_loss: 0.6529 - val_accuracy: 0.7156\n",
            "Epoch 22/50\n",
            "9041/9041 [==============================] - 25s 3ms/step - loss: 0.7323 - accuracy: 0.6919 - val_loss: 0.6533 - val_accuracy: 0.7160\n",
            "Epoch 23/50\n",
            "9041/9041 [==============================] - 25s 3ms/step - loss: 0.7318 - accuracy: 0.6925 - val_loss: 0.6507 - val_accuracy: 0.7159\n",
            "Epoch 24/50\n",
            "9041/9041 [==============================] - 25s 3ms/step - loss: 0.7321 - accuracy: 0.6921 - val_loss: 0.6510 - val_accuracy: 0.7156\n",
            "Epoch 25/50\n",
            "9041/9041 [==============================] - 25s 3ms/step - loss: 0.7317 - accuracy: 0.6925 - val_loss: 0.6527 - val_accuracy: 0.7156\n",
            "Epoch 26/50\n",
            "9041/9041 [==============================] - 26s 3ms/step - loss: 0.7320 - accuracy: 0.6920 - val_loss: 0.6556 - val_accuracy: 0.7155\n",
            "Epoch 27/50\n",
            "9041/9041 [==============================] - 25s 3ms/step - loss: 0.7319 - accuracy: 0.6921 - val_loss: 0.6524 - val_accuracy: 0.7156\n",
            "Epoch 28/50\n",
            "9041/9041 [==============================] - 25s 3ms/step - loss: 0.7324 - accuracy: 0.6920 - val_loss: 0.6554 - val_accuracy: 0.7156\n",
            "Epoch 29/50\n",
            "9041/9041 [==============================] - 25s 3ms/step - loss: 0.7324 - accuracy: 0.6918 - val_loss: 0.6546 - val_accuracy: 0.7156\n",
            "Epoch 30/50\n",
            "9041/9041 [==============================] - 25s 3ms/step - loss: 0.7322 - accuracy: 0.6920 - val_loss: 0.6551 - val_accuracy: 0.7156\n",
            "Epoch 31/50\n",
            "9041/9041 [==============================] - 25s 3ms/step - loss: 0.7323 - accuracy: 0.6920 - val_loss: 0.6517 - val_accuracy: 0.7155\n",
            "Epoch 32/50\n",
            "9041/9041 [==============================] - 26s 3ms/step - loss: 0.7320 - accuracy: 0.6926 - val_loss: 0.6524 - val_accuracy: 0.7156\n",
            "Epoch 33/50\n",
            "9041/9041 [==============================] - 25s 3ms/step - loss: 0.7317 - accuracy: 0.6923 - val_loss: 0.6518 - val_accuracy: 0.7154\n",
            "Epoch 34/50\n",
            "9041/9041 [==============================] - 25s 3ms/step - loss: 0.7317 - accuracy: 0.6927 - val_loss: 0.6524 - val_accuracy: 0.7156\n",
            "Epoch 35/50\n",
            "9041/9041 [==============================] - 25s 3ms/step - loss: 0.7319 - accuracy: 0.6921 - val_loss: 0.6521 - val_accuracy: 0.7154\n",
            "Epoch 36/50\n",
            "9041/9041 [==============================] - 25s 3ms/step - loss: 0.7319 - accuracy: 0.6922 - val_loss: 0.6545 - val_accuracy: 0.7158\n",
            "Epoch 37/50\n",
            "9041/9041 [==============================] - 25s 3ms/step - loss: 0.7317 - accuracy: 0.6922 - val_loss: 0.6538 - val_accuracy: 0.7155\n",
            "Epoch 38/50\n",
            "9041/9041 [==============================] - 25s 3ms/step - loss: 0.7324 - accuracy: 0.6921 - val_loss: 0.6571 - val_accuracy: 0.7158\n",
            "Epoch 39/50\n",
            "9041/9041 [==============================] - 25s 3ms/step - loss: 0.7317 - accuracy: 0.6920 - val_loss: 0.6537 - val_accuracy: 0.7156\n",
            "Epoch 40/50\n",
            "9041/9041 [==============================] - 26s 3ms/step - loss: 0.7319 - accuracy: 0.6923 - val_loss: 0.6524 - val_accuracy: 0.7156\n",
            "Epoch 41/50\n",
            "9041/9041 [==============================] - 25s 3ms/step - loss: 0.7321 - accuracy: 0.6920 - val_loss: 0.6524 - val_accuracy: 0.7157\n",
            "Epoch 42/50\n",
            "9041/9041 [==============================] - 25s 3ms/step - loss: 0.7318 - accuracy: 0.6924 - val_loss: 0.6570 - val_accuracy: 0.7156\n",
            "Epoch 43/50\n",
            "9041/9041 [==============================] - 25s 3ms/step - loss: 0.7320 - accuracy: 0.6921 - val_loss: 0.6577 - val_accuracy: 0.7154\n",
            "Epoch 44/50\n",
            "9041/9041 [==============================] - 25s 3ms/step - loss: 0.7321 - accuracy: 0.6923 - val_loss: 0.6552 - val_accuracy: 0.7155\n",
            "Epoch 45/50\n",
            "9041/9041 [==============================] - 25s 3ms/step - loss: 0.7317 - accuracy: 0.6927 - val_loss: 0.6546 - val_accuracy: 0.7157\n",
            "Epoch 46/50\n",
            "9041/9041 [==============================] - 26s 3ms/step - loss: 0.7321 - accuracy: 0.6920 - val_loss: 0.6564 - val_accuracy: 0.7156\n",
            "Epoch 47/50\n",
            "9041/9041 [==============================] - 25s 3ms/step - loss: 0.7320 - accuracy: 0.6923 - val_loss: 0.6549 - val_accuracy: 0.7156\n",
            "Epoch 48/50\n",
            "9041/9041 [==============================] - 25s 3ms/step - loss: 0.7321 - accuracy: 0.6922 - val_loss: 0.6561 - val_accuracy: 0.7156\n",
            "Epoch 49/50\n",
            "9041/9041 [==============================] - 25s 3ms/step - loss: 0.7319 - accuracy: 0.6923 - val_loss: 0.6538 - val_accuracy: 0.7157\n",
            "Epoch 50/50\n",
            "9041/9041 [==============================] - 25s 3ms/step - loss: 0.7316 - accuracy: 0.6921 - val_loss: 0.6531 - val_accuracy: 0.7155\n",
            "44142/44142 [==============================] - 86s 2ms/step - loss: 0.6533 - accuracy: 0.7152\n",
            "Test Accuracy: 0.7152143716812134\n"
          ]
        }
      ]
    }
  ]
}