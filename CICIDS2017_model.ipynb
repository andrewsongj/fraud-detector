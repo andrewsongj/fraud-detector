{
  "cells": [
    {
      "cell_type": "markdown",
      "metadata": {
        "colab_type": "text",
        "id": "view-in-github"
      },
      "source": [
        "<a href=\"https://colab.research.google.com/github/andrewsongj/fraud-detector/blob/main/NetSec_Classic_first.ipynb\" target=\"_parent\"><img src=\"https://colab.research.google.com/assets/colab-badge.svg\" alt=\"Open In Colab\"/></a>"
      ]
    },
    {
      "cell_type": "code",
      "execution_count": 3,
      "metadata": {
        "id": "dYBzhYDMaV7L"
      },
      "outputs": [],
      "source": [
        "import tensorflow as tf\n",
        "from tensorflow.keras.models import Model\n",
        "from tensorflow.keras.layers import Dense, GlobalAveragePooling2D\n",
        "from tensorflow.keras.optimizers import Adam\n",
        "from sklearn.model_selection import train_test_split"
      ]
    },
    {
      "cell_type": "code",
      "execution_count": null,
      "metadata": {
        "id": "vXJKn2BFa41C"
      },
      "outputs": [],
      "source": [
        "! pip install -q kaggle\n",
        "\n",
        "from google.colab import files"
      ]
    },
    {
      "cell_type": "code",
      "execution_count": null,
      "metadata": {
        "colab": {
          "base_uri": "https://localhost:8080/",
          "height": 91
        },
        "id": "u7KWOTvIbMXj",
        "outputId": "6d93417a-5393-4414-cc13-6a335a47a642"
      },
      "outputs": [],
      "source": [
        "files.upload()"
      ]
    },
    {
      "cell_type": "code",
      "execution_count": null,
      "metadata": {
        "id": "gyeJdtEUbPmw"
      },
      "outputs": [],
      "source": [
        "! mkdir ~/.kaggle"
      ]
    },
    {
      "cell_type": "code",
      "execution_count": null,
      "metadata": {
        "id": "Yt7fQFumbST0"
      },
      "outputs": [],
      "source": [
        "! cp kaggle.json ~/.kaggle/"
      ]
    },
    {
      "cell_type": "code",
      "execution_count": null,
      "metadata": {
        "id": "In7Gr15obUw8"
      },
      "outputs": [],
      "source": [
        "! chmod 600 ~/.kaggle/kaggle.json\n",
        "\n"
      ]
    },
    {
      "cell_type": "code",
      "execution_count": null,
      "metadata": {
        "colab": {
          "base_uri": "https://localhost:8080/"
        },
        "id": "BNMGyZkHb8IR",
        "outputId": "3bac9588-f281-4769-e7f8-b69e9754fa48"
      },
      "outputs": [
        {
          "name": "stdout",
          "output_type": "stream",
          "text": [
            "Downloading aci-iot-network-traffic-dataset-2023.zip to /content\n",
            "100% 32.3G/32.3G [20:55<00:00, 26.0MB/s]\n",
            "100% 32.3G/32.3G [20:55<00:00, 27.6MB/s]\n"
          ]
        }
      ],
      "source": [
        "!kaggle datasets download -d emilynack/aci-iot-network-traffic-dataset-2023"
      ]
    },
    {
      "cell_type": "code",
      "execution_count": 4,
      "metadata": {
        "colab": {
          "base_uri": "https://localhost:8080/"
        },
        "id": "TMo7I1LIg5bC",
        "outputId": "a3d600dc-3069-48ce-fc52-74302b23ff0b"
      },
      "outputs": [
        {
          "name": "stdout",
          "output_type": "stream",
          "text": [
            "Mounted at /content/drive\n"
          ]
        }
      ],
      "source": [
        "from google.colab import drive\n",
        "drive.mount('/content/drive')"
      ]
    },
    {
      "cell_type": "code",
      "execution_count": null,
      "metadata": {
        "colab": {
          "base_uri": "https://localhost:8080/"
        },
        "id": "8Ce0E77AbWtl",
        "outputId": "023173ee-68fe-401d-937d-d27977bfa9b3"
      },
      "outputs": [
        {
          "name": "stdout",
          "output_type": "stream",
          "text": [
            "mv: cannot stat 'aci-iot-network-traffic-dataset-2023.zip': No such file or directory\n"
          ]
        }
      ],
      "source": [
        "!mv aci-iot-network-traffic-datagset-2023.zip /content/drive/MyDrive/"
      ]
    },
    {
      "cell_type": "code",
      "execution_count": null,
      "metadata": {
        "id": "KUlSu8lfauug"
      },
      "outputs": [],
      "source": [
        "%%capture\n",
        "#!mv aci-iot-network-traffic-dataset-2023.zip /content/drive/MyDrive/\n",
        "import pandas as pd\n",
        "!unzip /content/drive/MyDrive/aci-iot-network-traffic-dataset-2023.zip"
      ]
    },
    {
      "cell_type": "code",
      "execution_count": 3,
      "metadata": {
        "colab": {
          "base_uri": "https://localhost:8080/"
        },
        "id": "EMSniSfnV9bx",
        "outputId": "5c4a63af-372d-46eb-8232-15ca7b036b1c"
      },
      "outputs": [
        {
          "name": "stdout",
          "output_type": "stream",
          "text": [
            "Archive:  /content/drive/MyDrive/cicids2017.zip\n",
            "  inflating: MachineLearningCSV.md5  \n",
            "  inflating: MachineLearningCSV/MachineLearningCVE/Friday-WorkingHours-Afternoon-DDos.pcap_ISCX.csv  \n",
            "  inflating: MachineLearningCSV/MachineLearningCVE/Friday-WorkingHours-Afternoon-PortScan.pcap_ISCX.csv  \n",
            "  inflating: MachineLearningCSV/MachineLearningCVE/Friday-WorkingHours-Morning.pcap_ISCX.csv  \n",
            "  inflating: MachineLearningCSV/MachineLearningCVE/Monday-WorkingHours.pcap_ISCX.csv  \n",
            "  inflating: MachineLearningCSV/MachineLearningCVE/Thursday-WorkingHours-Afternoon-Infilteration.pcap_ISCX.csv  \n",
            "  inflating: MachineLearningCSV/MachineLearningCVE/Thursday-WorkingHours-Morning-WebAttacks.pcap_ISCX.csv  \n",
            "  inflating: MachineLearningCSV/MachineLearningCVE/Tuesday-WorkingHours.pcap_ISCX.csv  \n",
            "  inflating: MachineLearningCSV/MachineLearningCVE/Wednesday-workingHours.pcap_ISCX.csv  \n"
          ]
        }
      ],
      "source": [
        "!unzip /content/drive/MyDrive/cicids2017.zip"
      ]
    },
    {
      "cell_type": "markdown",
      "metadata": {},
      "source": [
        "## Model Building"
      ]
    },
    {
      "cell_type": "code",
      "execution_count": 7,
      "metadata": {
        "id": "hIKGjubBWB4V"
      },
      "outputs": [],
      "source": [
        "import pandas as pd\n",
        "pd.set_option('display.max_columns', None)\n",
        "pd.set_option('display.max_rows', None)\n",
        "nRowsRead = None\n",
        "\n",
        "df1 = pd.read_csv(\"MachineLearningCSV/MachineLearningCVE/Friday-WorkingHours-Afternoon-DDos.pcap_ISCX.csv\")\n",
        "df2=pd.read_csv(\"MachineLearningCSV/MachineLearningCVE/Friday-WorkingHours-Afternoon-PortScan.pcap_ISCX.csv\")\n",
        "df3=pd.read_csv(\"MachineLearningCSV/MachineLearningCVE/Friday-WorkingHours-Morning.pcap_ISCX.csv\")\n",
        "df4=pd.read_csv(\"MachineLearningCSV/MachineLearningCVE/Monday-WorkingHours.pcap_ISCX.csv\")\n",
        "df5=pd.read_csv(\"MachineLearningCSV/MachineLearningCVE/Thursday-WorkingHours-Afternoon-Infilteration.pcap_ISCX.csv\")\n",
        "df6=pd.read_csv(\"MachineLearningCSV/MachineLearningCVE/Thursday-WorkingHours-Morning-WebAttacks.pcap_ISCX.csv\")\n",
        "df7=pd.read_csv(\"MachineLearningCSV/MachineLearningCVE/Tuesday-WorkingHours.pcap_ISCX.csv\")\n",
        "df8=pd.read_csv(\"MachineLearningCSV/MachineLearningCVE/Wednesday-workingHours.pcap_ISCX.csv\")\n",
        "\n",
        "\n",
        "df = pd.concat([df1,df2])\n",
        "del df1,df2\n",
        "df = pd.concat([df,df3])\n",
        "del df3\n",
        "df = pd.concat([df,df4])\n",
        "del df4\n",
        "df = pd.concat([df,df5])\n",
        "del df5\n",
        "df = pd.concat([df,df6])\n",
        "del df6\n",
        "df = pd.concat([df,df7])\n",
        "del df7\n",
        "df = pd.concat([df,df8])\n",
        "del df8"
      ]
    },
    {
      "cell_type": "code",
      "execution_count": 8,
      "metadata": {
        "id": "gQTucBkZWFBJ"
      },
      "outputs": [],
      "source": [
        "features = df.columns.tolist()\n",
        "features.remove(' Label')\n",
        "X = df[features]\n",
        "y=df[' Label']\n"
      ]
    },
    {
      "cell_type": "code",
      "execution_count": 9,
      "metadata": {
        "id": "90aW-fS4WIKa"
      },
      "outputs": [],
      "source": [
        "X_train, X_test, y_train, y_test = train_test_split(X, y, test_size=0.4, random_state=0, stratify=y)"
      ]
    },
    {
      "cell_type": "code",
      "execution_count": 10,
      "metadata": {
        "id": "gt-qi-oYWIOt"
      },
      "outputs": [],
      "source": [
        "float_columns = X_train.select_dtypes(include=['float64']).columns"
      ]
    },
    {
      "cell_type": "code",
      "execution_count": 11,
      "metadata": {
        "id": "YXJ1PykDWIRd"
      },
      "outputs": [],
      "source": [
        "import numpy as np\n",
        "\n",
        "X_train_nan = np.where(np.isinf(X_train), np.nan, X_train)\n",
        "X_test_nan = np.where(np.isinf(X_test), np.nan, X_test)\n",
        "\n",
        "\n",
        "from sklearn.impute import SimpleImputer\n",
        "imputer = SimpleImputer(strategy='mean')\n",
        "\n",
        "X_train_imputed = imputer.fit_transform(X_train_nan)\n",
        "X_test_imputed = imputer.transform(X_test_nan)\n",
        "\n",
        "X_train_imputed = pd.DataFrame(X_train_imputed, columns=X_train.columns)\n",
        "X_test_imputed = pd.DataFrame(X_test_imputed, columns=X_test.columns)\n",
        "\n",
        "X_train_imputed[float_columns] = X_train_imputed[float_columns].round().astype('int64')\n",
        "X_test_imputed[float_columns] = X_test_imputed[float_columns].round().astype('int64')"
      ]
    },
    {
      "cell_type": "code",
      "execution_count": 12,
      "metadata": {
        "id": "u4PSjZaAWIT5"
      },
      "outputs": [],
      "source": [
        "from sklearn.preprocessing import StandardScaler\n",
        "\n",
        "scaler = StandardScaler()\n",
        "X_train_scaled = scaler.fit_transform(X_train_imputed)\n",
        "X_test_scaled = scaler.transform(X_test_imputed)"
      ]
    },
    {
      "cell_type": "code",
      "execution_count": 13,
      "metadata": {
        "id": "blXlWToTWIWf"
      },
      "outputs": [],
      "source": [
        "from sklearn.preprocessing import LabelEncoder\n",
        "\n",
        "encoder = LabelEncoder()\n",
        "y_train_encoded = encoder.fit_transform(y_train)\n",
        "y_test_encoded = encoder.transform(y_test)"
      ]
    },
    {
      "cell_type": "code",
      "execution_count": 14,
      "metadata": {
        "id": "b8oDrn01WIZI"
      },
      "outputs": [],
      "source": [
        "num_features = X_train_scaled.shape\n",
        "num_classes = len(np.unique(y_train_encoded))"
      ]
    },
    {
      "cell_type": "code",
      "execution_count": 15,
      "metadata": {
        "colab": {
          "base_uri": "https://localhost:8080/"
        },
        "id": "GJ2WnI5bWfUh",
        "outputId": "261a0016-8938-42ff-c3a0-56f4324eec16"
      },
      "outputs": [
        {
          "name": "stdout",
          "output_type": "stream",
          "text": [
            "Model: \"sequential\"\n",
            "_________________________________________________________________\n",
            " Layer (type)                Output Shape              Param #   \n",
            "=================================================================\n",
            " dense (Dense)               (None, 256)               20224     \n",
            "                                                                 \n",
            " batch_normalization (Batch  (None, 256)               1024      \n",
            " Normalization)                                                  \n",
            "                                                                 \n",
            " dense_1 (Dense)             (None, 128)               32896     \n",
            "                                                                 \n",
            " dropout (Dropout)           (None, 128)               0         \n",
            "                                                                 \n",
            " batch_normalization_1 (Bat  (None, 128)               512       \n",
            " chNormalization)                                                \n",
            "                                                                 \n",
            " dense_2 (Dense)             (None, 64)                8256      \n",
            "                                                                 \n",
            " dense_3 (Dense)             (None, 15)                975       \n",
            "                                                                 \n",
            "=================================================================\n",
            "Total params: 63887 (249.56 KB)\n",
            "Trainable params: 63119 (246.56 KB)\n",
            "Non-trainable params: 768 (3.00 KB)\n",
            "_________________________________________________________________\n"
          ]
        }
      ],
      "source": [
        "from tensorflow.keras.models import Sequential\n",
        "from tensorflow.keras.layers import Dense, Dropout, BatchNormalization\n",
        "from tensorflow.keras.optimizers import Adam\n",
        "\n",
        "model = Sequential([\n",
        "        Dense(256, activation='relu', input_shape=(X_train_scaled.shape[1],)),\n",
        "        BatchNormalization(),\n",
        "        Dense(128, activation='relu'),\n",
        "        Dropout(0.5),\n",
        "        BatchNormalization(),\n",
        "        Dense(64, activation='relu'),\n",
        "        Dense(len(encoder.classes_), activation='softmax')  # Output layer\n",
        "    ])\n",
        "optimizer = Adam(learning_rate=0.001)\n",
        "model.compile(optimizer=optimizer, loss='sparse_categorical_crossentropy', metrics=['accuracy'])\n",
        "model.summary()\n"
      ]
    },
    {
      "cell_type": "code",
      "execution_count": 16,
      "metadata": {
        "colab": {
          "base_uri": "https://localhost:8080/"
        },
        "id": "JrKilMoZWjrW",
        "outputId": "1448e156-8f26-46be-b773-7a28d1d41dc1"
      },
      "outputs": [
        {
          "name": "stdout",
          "output_type": "stream",
          "text": [
            "Epoch 1/10\n",
            "42462/42462 [==============================] - 193s 4ms/step - loss: 0.0835 - accuracy: 0.9670 - val_loss: 0.0703 - val_accuracy: 0.9705\n",
            "Epoch 2/10\n",
            "42462/42462 [==============================] - 185s 4ms/step - loss: 0.0567 - accuracy: 0.9768 - val_loss: 0.0970 - val_accuracy: 0.9460\n",
            "Epoch 3/10\n",
            "42462/42462 [==============================] - 185s 4ms/step - loss: 0.0479 - accuracy: 0.9818 - val_loss: 0.0490 - val_accuracy: 0.9821\n",
            "Epoch 4/10\n",
            "42462/42462 [==============================] - 189s 4ms/step - loss: 0.0442 - accuracy: 0.9834 - val_loss: 0.0744 - val_accuracy: 0.9639\n",
            "Epoch 5/10\n",
            "42462/42462 [==============================] - 190s 4ms/step - loss: 0.0431 - accuracy: 0.9837 - val_loss: 0.0647 - val_accuracy: 0.9794\n",
            "Epoch 6/10\n",
            "42462/42462 [==============================] - 190s 4ms/step - loss: 0.0464 - accuracy: 0.9820 - val_loss: 0.0596 - val_accuracy: 0.9794\n",
            "Epoch 7/10\n",
            "42462/42462 [==============================] - 189s 4ms/step - loss: 0.0423 - accuracy: 0.9842 - val_loss: 0.0518 - val_accuracy: 0.9865\n",
            "Epoch 8/10\n",
            "42462/42462 [==============================] - 194s 5ms/step - loss: 0.0346 - accuracy: 0.9881 - val_loss: 0.0415 - val_accuracy: 0.9832\n",
            "Epoch 9/10\n",
            "42462/42462 [==============================] - 190s 4ms/step - loss: 0.0326 - accuracy: 0.9888 - val_loss: 0.0602 - val_accuracy: 0.9763\n",
            "Epoch 10/10\n",
            "42462/42462 [==============================] - 191s 5ms/step - loss: 0.0408 - accuracy: 0.9850 - val_loss: 0.0463 - val_accuracy: 0.9849\n",
            "35385/35385 [==============================] - 73s 2ms/step - loss: 0.0632 - accuracy: 0.9849\n",
            "Test Accuracy: 0.9849333167076111\n"
          ]
        }
      ],
      "source": [
        "history = model.fit(X_train_scaled, y_train_encoded, epochs=10, batch_size=32, validation_split=0.2)\n",
        "test_loss, test_acc = model.evaluate(X_test_scaled, y_test_encoded)\n",
        "print(f\"Test Accuracy: {test_acc}\")"
      ]
    },
    {
      "cell_type": "code",
      "execution_count": 17,
      "metadata": {
        "colab": {
          "base_uri": "https://localhost:8080/"
        },
        "id": "6nd8x1hPWnAg",
        "outputId": "8f1f2d16-2bcb-497c-cc79-0bd574f09cb1"
      },
      "outputs": [
        {
          "name": "stderr",
          "output_type": "stream",
          "text": [
            "/usr/local/lib/python3.10/dist-packages/keras/src/engine/training.py:3103: UserWarning: You are saving your model as an HDF5 file via `model.save()`. This file format is considered legacy. We recommend using instead the native Keras format, e.g. `model.save('my_model.keras')`.\n",
            "  saving_api.save_model(\n"
          ]
        }
      ],
      "source": [
        "model.save('/content/drive/MyDrive/my_network_model_reversed.h5')  # Saves as a single HDF5 file"
      ]
    },
    {
      "cell_type": "code",
      "execution_count": 5,
      "metadata": {
        "id": "Wl9wqJUV_I-_"
      },
      "outputs": [],
      "source": [
        "%%capture\n",
        "#!mv aci-iot-network-traffic-dataset-2023.zip /content/drive/MyDrive/\n",
        "import pandas as pd\n",
        "!unzip /content/drive/MyDrive/aci-iot-network-traffic-dataset-2023.zip"
      ]
    },
    {
      "cell_type": "markdown",
      "metadata": {},
      "source": [
        "## Transfer to ACI"
      ]
    },
    {
      "cell_type": "code",
      "execution_count": 6,
      "metadata": {
        "id": "dmpFHAUeaf2r"
      },
      "outputs": [],
      "source": [
        "df = pd.read_csv(\"ACI-IoT-2023.csv\")"
      ]
    },
    {
      "cell_type": "code",
      "execution_count": 7,
      "metadata": {
        "id": "CB_EKd3ElJWN"
      },
      "outputs": [],
      "source": [
        "df.drop([\"Flow Bytes/s\",\"Timestamp\",\"Flow Packets/s\"],axis=1,inplace=True)"
      ]
    },
    {
      "cell_type": "code",
      "execution_count": 8,
      "metadata": {
        "id": "L-RlF4SRnfnS"
      },
      "outputs": [],
      "source": [
        "#selected_labels = ['ICMP Flood', 'Slowloris', 'SYN Flood', 'UDP Flood', 'DNS Flood', 'Benign']\n",
        "#df =df[df['Label'].isin(selected_labels)]"
      ]
    },
    {
      "cell_type": "code",
      "execution_count": 9,
      "metadata": {
        "id": "fCzaPfpclW3-"
      },
      "outputs": [],
      "source": [
        "features = df.columns.tolist()\n",
        "features.remove(\"Label\")\n",
        "features.remove(\"Flow ID\")\n",
        "features.remove(\"Src IP\")\n",
        "features.remove(\"Dst IP\")\n",
        "X = df[features]\n",
        "y=df['Label']"
      ]
    },
    {
      "cell_type": "code",
      "execution_count": 10,
      "metadata": {
        "id": "La66pLs2qLn2"
      },
      "outputs": [],
      "source": [
        "import pandas as pd\n",
        "X = pd.get_dummies(X, columns=[\"Connection Type\"],dtype=int)\n"
      ]
    },
    {
      "cell_type": "code",
      "execution_count": 11,
      "metadata": {
        "id": "XxJGbGLAqqu_"
      },
      "outputs": [],
      "source": [
        "X_train, X_test, y_train, y_test = train_test_split(X, y, test_size=0.2, random_state=0, stratify=y)\n",
        "from sklearn.preprocessing import LabelEncoder\n",
        "\n",
        "encoder = LabelEncoder()\n",
        "y_train_encoded = encoder.fit_transform(y_train)\n",
        "y_test_encoded = encoder.transform(y_test)\n",
        "from sklearn.preprocessing import StandardScaler\n",
        "\n",
        "scaler = StandardScaler()\n",
        "X_train_scaled = scaler.fit_transform(X_train)\n",
        "X_test_scaled = scaler.transform(X_test)\n"
      ]
    },
    {
      "cell_type": "code",
      "execution_count": 14,
      "metadata": {
        "id": "brn_RO393N77"
      },
      "outputs": [],
      "source": [
        "from tensorflow.keras.models import load_model\n",
        "import numpy as np\n",
        "base_model = tf.keras.models.load_model('/content/drive/MyDrive/my_network_model_reversed.h5')\n",
        "\n",
        "num_features = X_train.shape\n",
        "num_classes = len(np.unique(y_train_encoded))"
      ]
    },
    {
      "cell_type": "code",
      "execution_count": 15,
      "metadata": {
        "colab": {
          "base_uri": "https://localhost:8080/"
        },
        "id": "oWK9HIszHzZT",
        "outputId": "6c788722-4c4d-439a-eda0-26bff67212e3"
      },
      "outputs": [
        {
          "name": "stdout",
          "output_type": "stream",
          "text": [
            "<keras.src.layers.core.dense.Dense object at 0x7d44922d7730> False\n",
            "<keras.src.layers.normalization.batch_normalization.BatchNormalization object at 0x7d4493293e80> False\n",
            "<keras.src.layers.core.dense.Dense object at 0x7d44922d7be0> False\n",
            "<keras.src.layers.regularization.dropout.Dropout object at 0x7d44922d7bb0> False\n",
            "<keras.src.layers.normalization.batch_normalization.BatchNormalization object at 0x7d44922d6650> False\n",
            "<keras.src.layers.core.dense.Dense object at 0x7d44922d6920> False\n",
            "<keras.src.layers.core.dense.Dense object at 0x7d44922d7dc0> True\n"
          ]
        }
      ],
      "source": [
        "for layer in base_model.layers[:-1]:\n",
        "    layer.trainable = False\n",
        "\n",
        "for layer in base_model.layers:\n",
        "    print(layer, layer.trainable)"
      ]
    },
    {
      "cell_type": "code",
      "execution_count": 19,
      "metadata": {
        "id": "UQk8aRtkJ0P-"
      },
      "outputs": [],
      "source": [
        "from tensorflow.keras.layers import Dense\n",
        "\n",
        "\n",
        "base_model.pop() \n",
        "base_model.add(Dense(num_classes, activation='softmax')) "
      ]
    },
    {
      "cell_type": "code",
      "execution_count": 20,
      "metadata": {
        "id": "9FavmKSYJRPR"
      },
      "outputs": [],
      "source": [
        "from tensorflow.keras.models import Sequential\n",
        "new_model = Sequential()\n",
        "new_model.add(Dense(256, activation='relu', input_shape=(X_train_scaled.shape[1],)))\n",
        "\n",
        "\n",
        "\n",
        "for layer in base_model.layers[1:]:\n",
        "    new_model.add(layer)\n"
      ]
    },
    {
      "cell_type": "code",
      "execution_count": 21,
      "metadata": {
        "id": "vm0Wm6UrOLyb"
      },
      "outputs": [],
      "source": [
        "for layer in new_model.layers[:-1]: \n",
        "    layer.trainable = False"
      ]
    },
    {
      "cell_type": "code",
      "execution_count": 23,
      "metadata": {
        "colab": {
          "base_uri": "https://localhost:8080/"
        },
        "id": "-l5U8btBI2G6",
        "outputId": "99779ead-c13a-45af-e051-f48a691a1c76"
      },
      "outputs": [
        {
          "name": "stdout",
          "output_type": "stream",
          "text": [
            "Epoch 1/50\n",
            "1183/1183 [==============================] - 4s 3ms/step - loss: 0.6962 - accuracy: 0.7947 - val_loss: 0.5515 - val_accuracy: 0.8234\n",
            "Epoch 2/50\n",
            "1183/1183 [==============================] - 3s 3ms/step - loss: 0.4956 - accuracy: 0.8399 - val_loss: 0.4461 - val_accuracy: 0.8536\n",
            "Epoch 3/50\n",
            "1183/1183 [==============================] - 3s 3ms/step - loss: 0.4178 - accuracy: 0.8615 - val_loss: 0.3901 - val_accuracy: 0.8802\n",
            "Epoch 4/50\n",
            "1183/1183 [==============================] - 3s 3ms/step - loss: 0.3721 - accuracy: 0.8910 - val_loss: 0.3529 - val_accuracy: 0.9100\n",
            "Epoch 5/50\n",
            "1183/1183 [==============================] - 3s 3ms/step - loss: 0.3409 - accuracy: 0.9107 - val_loss: 0.3266 - val_accuracy: 0.9212\n",
            "Epoch 6/50\n",
            "1183/1183 [==============================] - 3s 3ms/step - loss: 0.3177 - accuracy: 0.9226 - val_loss: 0.3066 - val_accuracy: 0.9277\n",
            "Epoch 7/50\n",
            "1183/1183 [==============================] - 3s 3ms/step - loss: 0.2997 - accuracy: 0.9277 - val_loss: 0.2913 - val_accuracy: 0.9307\n",
            "Epoch 8/50\n",
            "1183/1183 [==============================] - 3s 3ms/step - loss: 0.2853 - accuracy: 0.9309 - val_loss: 0.2788 - val_accuracy: 0.9331\n",
            "Epoch 9/50\n",
            "1183/1183 [==============================] - 3s 3ms/step - loss: 0.2736 - accuracy: 0.9332 - val_loss: 0.2684 - val_accuracy: 0.9355\n",
            "Epoch 10/50\n",
            "1183/1183 [==============================] - 3s 3ms/step - loss: 0.2640 - accuracy: 0.9356 - val_loss: 0.2594 - val_accuracy: 0.9366\n",
            "Epoch 11/50\n",
            "1183/1183 [==============================] - 3s 3ms/step - loss: 0.2556 - accuracy: 0.9375 - val_loss: 0.2518 - val_accuracy: 0.9398\n",
            "Epoch 12/50\n",
            "1183/1183 [==============================] - 3s 3ms/step - loss: 0.2485 - accuracy: 0.9388 - val_loss: 0.2450 - val_accuracy: 0.9407\n",
            "Epoch 13/50\n",
            "1183/1183 [==============================] - 3s 3ms/step - loss: 0.2422 - accuracy: 0.9399 - val_loss: 0.2396 - val_accuracy: 0.9415\n",
            "Epoch 14/50\n",
            "1183/1183 [==============================] - 3s 3ms/step - loss: 0.2367 - accuracy: 0.9411 - val_loss: 0.2342 - val_accuracy: 0.9439\n",
            "Epoch 15/50\n",
            "1183/1183 [==============================] - 3s 3ms/step - loss: 0.2316 - accuracy: 0.9423 - val_loss: 0.2295 - val_accuracy: 0.9443\n",
            "Epoch 16/50\n",
            "1183/1183 [==============================] - 3s 3ms/step - loss: 0.2271 - accuracy: 0.9431 - val_loss: 0.2258 - val_accuracy: 0.9449\n",
            "Epoch 17/50\n",
            "1183/1183 [==============================] - 3s 3ms/step - loss: 0.2230 - accuracy: 0.9439 - val_loss: 0.2216 - val_accuracy: 0.9443\n",
            "Epoch 18/50\n",
            "1183/1183 [==============================] - 3s 3ms/step - loss: 0.2192 - accuracy: 0.9447 - val_loss: 0.2179 - val_accuracy: 0.9462\n",
            "Epoch 19/50\n",
            "1183/1183 [==============================] - 3s 3ms/step - loss: 0.2158 - accuracy: 0.9455 - val_loss: 0.2147 - val_accuracy: 0.9467\n",
            "Epoch 20/50\n",
            "1183/1183 [==============================] - 3s 3ms/step - loss: 0.2125 - accuracy: 0.9462 - val_loss: 0.2120 - val_accuracy: 0.9474\n",
            "Epoch 21/50\n",
            "1183/1183 [==============================] - 3s 3ms/step - loss: 0.2096 - accuracy: 0.9468 - val_loss: 0.2089 - val_accuracy: 0.9476\n",
            "Epoch 22/50\n",
            "1183/1183 [==============================] - 3s 3ms/step - loss: 0.2068 - accuracy: 0.9473 - val_loss: 0.2063 - val_accuracy: 0.9483\n",
            "Epoch 23/50\n",
            "1183/1183 [==============================] - 3s 3ms/step - loss: 0.2042 - accuracy: 0.9479 - val_loss: 0.2037 - val_accuracy: 0.9490\n",
            "Epoch 24/50\n",
            "1183/1183 [==============================] - 3s 3ms/step - loss: 0.2018 - accuracy: 0.9487 - val_loss: 0.2017 - val_accuracy: 0.9501\n",
            "Epoch 25/50\n",
            "1183/1183 [==============================] - 3s 3ms/step - loss: 0.1995 - accuracy: 0.9493 - val_loss: 0.1993 - val_accuracy: 0.9498\n",
            "Epoch 26/50\n",
            "1183/1183 [==============================] - 3s 3ms/step - loss: 0.1973 - accuracy: 0.9498 - val_loss: 0.1972 - val_accuracy: 0.9511\n",
            "Epoch 27/50\n",
            "1183/1183 [==============================] - 3s 3ms/step - loss: 0.1952 - accuracy: 0.9503 - val_loss: 0.1954 - val_accuracy: 0.9519\n",
            "Epoch 28/50\n",
            "1183/1183 [==============================] - 3s 3ms/step - loss: 0.1934 - accuracy: 0.9510 - val_loss: 0.1937 - val_accuracy: 0.9520\n",
            "Epoch 29/50\n",
            "1183/1183 [==============================] - 3s 3ms/step - loss: 0.1915 - accuracy: 0.9516 - val_loss: 0.1917 - val_accuracy: 0.9524\n",
            "Epoch 30/50\n",
            "1183/1183 [==============================] - 3s 3ms/step - loss: 0.1897 - accuracy: 0.9523 - val_loss: 0.1902 - val_accuracy: 0.9525\n",
            "Epoch 31/50\n",
            "1183/1183 [==============================] - 3s 3ms/step - loss: 0.1880 - accuracy: 0.9529 - val_loss: 0.1884 - val_accuracy: 0.9533\n",
            "Epoch 32/50\n",
            "1183/1183 [==============================] - 3s 3ms/step - loss: 0.1864 - accuracy: 0.9532 - val_loss: 0.1873 - val_accuracy: 0.9539\n",
            "Epoch 33/50\n",
            "1183/1183 [==============================] - 3s 3ms/step - loss: 0.1849 - accuracy: 0.9537 - val_loss: 0.1857 - val_accuracy: 0.9548\n",
            "Epoch 34/50\n",
            "1183/1183 [==============================] - 3s 3ms/step - loss: 0.1834 - accuracy: 0.9543 - val_loss: 0.1844 - val_accuracy: 0.9537\n",
            "Epoch 35/50\n",
            "1183/1183 [==============================] - 3s 3ms/step - loss: 0.1821 - accuracy: 0.9544 - val_loss: 0.1831 - val_accuracy: 0.9550\n",
            "Epoch 36/50\n",
            "1183/1183 [==============================] - 3s 3ms/step - loss: 0.1806 - accuracy: 0.9549 - val_loss: 0.1820 - val_accuracy: 0.9565\n",
            "Epoch 37/50\n",
            "1183/1183 [==============================] - 3s 3ms/step - loss: 0.1793 - accuracy: 0.9551 - val_loss: 0.1809 - val_accuracy: 0.9556\n",
            "Epoch 38/50\n",
            "1183/1183 [==============================] - 3s 3ms/step - loss: 0.1782 - accuracy: 0.9555 - val_loss: 0.1793 - val_accuracy: 0.9553\n",
            "Epoch 39/50\n",
            "1183/1183 [==============================] - 4s 3ms/step - loss: 0.1769 - accuracy: 0.9557 - val_loss: 0.1785 - val_accuracy: 0.9564\n",
            "Epoch 40/50\n",
            "1183/1183 [==============================] - 4s 3ms/step - loss: 0.1758 - accuracy: 0.9559 - val_loss: 0.1776 - val_accuracy: 0.9566\n",
            "Epoch 41/50\n",
            "1183/1183 [==============================] - 3s 3ms/step - loss: 0.1748 - accuracy: 0.9559 - val_loss: 0.1763 - val_accuracy: 0.9565\n",
            "Epoch 42/50\n",
            "1183/1183 [==============================] - 3s 3ms/step - loss: 0.1736 - accuracy: 0.9563 - val_loss: 0.1749 - val_accuracy: 0.9571\n",
            "Epoch 43/50\n",
            "1183/1183 [==============================] - 3s 3ms/step - loss: 0.1726 - accuracy: 0.9565 - val_loss: 0.1749 - val_accuracy: 0.9570\n",
            "Epoch 44/50\n",
            "1183/1183 [==============================] - 3s 3ms/step - loss: 0.1716 - accuracy: 0.9568 - val_loss: 0.1740 - val_accuracy: 0.9573\n",
            "Epoch 45/50\n",
            "1183/1183 [==============================] - 3s 3ms/step - loss: 0.1707 - accuracy: 0.9572 - val_loss: 0.1725 - val_accuracy: 0.9589\n",
            "Epoch 46/50\n",
            "1183/1183 [==============================] - 3s 3ms/step - loss: 0.1697 - accuracy: 0.9575 - val_loss: 0.1719 - val_accuracy: 0.9577\n",
            "Epoch 47/50\n",
            "1183/1183 [==============================] - 3s 3ms/step - loss: 0.1689 - accuracy: 0.9578 - val_loss: 0.1711 - val_accuracy: 0.9601\n",
            "Epoch 48/50\n",
            "1183/1183 [==============================] - 4s 3ms/step - loss: 0.1680 - accuracy: 0.9582 - val_loss: 0.1701 - val_accuracy: 0.9582\n",
            "Epoch 49/50\n",
            "1183/1183 [==============================] - 3s 3ms/step - loss: 0.1671 - accuracy: 0.9585 - val_loss: 0.1691 - val_accuracy: 0.9584\n",
            "Epoch 50/50\n",
            "1183/1183 [==============================] - 3s 3ms/step - loss: 0.1664 - accuracy: 0.9586 - val_loss: 0.1683 - val_accuracy: 0.9594\n",
            "15393/15393 [==============================] - 31s 2ms/step - loss: 0.1681 - accuracy: 0.9592\n",
            "Test Accuracy: 0.9592236280441284\n"
          ]
        }
      ],
      "source": [
        "from tensorflow.keras.optimizers import Adam\n",
        "\n",
        "new_model.compile(optimizer=Adam(learning_rate=0.0001), loss='sparse_categorical_crossentropy', metrics=['accuracy'])\n",
        "\n",
        "history = new_model.fit(X_train_scaled, y_train_encoded, epochs=50, batch_size=500, validation_split=0.2)\n",
        "test_loss, test_acc = new_model.evaluate(X_test_scaled, y_test_encoded)\n",
        "print(f\"Test Accuracy: {test_acc}\")"
      ]
    },
    {
      "cell_type": "code",
      "execution_count": 24,
      "metadata": {
        "id": "eU2RiTKz3i9f"
      },
      "outputs": [],
      "source": [
        "#!kaggle datasets download -d azalhowaide/iot-dataset-for-intrusion-detection-systems-ids"
      ]
    },
    {
      "cell_type": "markdown",
      "metadata": {},
      "source": [
        "## Botnet Transfer Learning"
      ]
    },
    {
      "cell_type": "code",
      "execution_count": 25,
      "metadata": {
        "id": "CGJeNdhXCt3G"
      },
      "outputs": [],
      "source": [
        "%%capture\n",
        "#!mv iot-dataset-for-intrusion-detection-systems-ids.zip /content/drive/MyDrive/\n",
        "#import pandas as pd\n",
        "!unzip /content/drive/MyDrive/iot-dataset-for-intrusion-detection-systems-ids.zip"
      ]
    },
    {
      "cell_type": "code",
      "execution_count": 26,
      "metadata": {
        "id": "b9b5v-_lC3r0"
      },
      "outputs": [],
      "source": [
        "iot = pd.read_csv('BoTNeTIoT-L01-v2.csv')"
      ]
    },
    {
      "cell_type": "code",
      "execution_count": 27,
      "metadata": {
        "colab": {
          "base_uri": "https://localhost:8080/"
        },
        "id": "RMuv89z-DOiB",
        "outputId": "0652789f-1c9b-4b7b-9d6f-f5c0277974ca"
      },
      "outputs": [
        {
          "data": {
            "text/plain": [
              "Index(['MI_dir_L0.1_weight', 'MI_dir_L0.1_mean', 'MI_dir_L0.1_variance',\n",
              "       'H_L0.1_weight', 'H_L0.1_mean', 'H_L0.1_variance', 'HH_L0.1_weight',\n",
              "       'HH_L0.1_mean', 'HH_L0.1_std', 'HH_L0.1_magnitude', 'HH_L0.1_radius',\n",
              "       'HH_L0.1_covariance', 'HH_L0.1_pcc', 'HH_jit_L0.1_weight',\n",
              "       'HH_jit_L0.1_mean', 'HH_jit_L0.1_variance', 'HpHp_L0.1_weight',\n",
              "       'HpHp_L0.1_mean', 'HpHp_L0.1_std', 'HpHp_L0.1_magnitude',\n",
              "       'HpHp_L0.1_radius', 'HpHp_L0.1_covariance', 'HpHp_L0.1_pcc',\n",
              "       'Device_Name', 'Attack', 'Attack_subType', 'label'],\n",
              "      dtype='object')"
            ]
          },
          "execution_count": 27,
          "metadata": {},
          "output_type": "execute_result"
        }
      ],
      "source": [
        "iot.columns"
      ]
    },
    {
      "cell_type": "code",
      "execution_count": 28,
      "metadata": {
        "id": "73tNN_ZyDq8X"
      },
      "outputs": [],
      "source": [
        "features = iot.columns.tolist()\n",
        "features.remove('label')\n",
        "features.remove('Attack')\n",
        "features.remove('Attack_subType')\n",
        "features.remove('Device_Name')\n",
        "X = iot[features]\n",
        "y=iot['Attack']"
      ]
    },
    {
      "cell_type": "code",
      "execution_count": 29,
      "metadata": {
        "id": "qvS7axsvE06s"
      },
      "outputs": [],
      "source": [
        "X_train, X_test, y_train, y_test = train_test_split(X, y, test_size=0.2, random_state=0, stratify=y)\n"
      ]
    },
    {
      "cell_type": "code",
      "execution_count": 30,
      "metadata": {
        "id": "y85EwCvaE1Gv"
      },
      "outputs": [],
      "source": [
        "float_columns = X_train.select_dtypes(include=['float64']).columns\n",
        "X_train_nan = np.where(np.isinf(X_train), np.nan, X_train)\n",
        "X_test_nan = np.where(np.isinf(X_test), np.nan, X_test)\n",
        "\n",
        "\n",
        "from sklearn.impute import SimpleImputer\n",
        "imputer = SimpleImputer(strategy='mean')\n",
        "\n",
        "X_train_imputed = imputer.fit_transform(X_train_nan)\n",
        "X_test_imputed = imputer.transform(X_test_nan)\n",
        "\n",
        "X_train_imputed = pd.DataFrame(X_train_imputed, columns=X_train.columns)\n",
        "X_test_imputed = pd.DataFrame(X_test_imputed, columns=X_test.columns)\n",
        "\n",
        "X_train_imputed[float_columns] = X_train_imputed[float_columns].round().astype('int64')\n",
        "X_test_imputed[float_columns] = X_test_imputed[float_columns].round().astype('int64')\n"
      ]
    },
    {
      "cell_type": "code",
      "execution_count": 31,
      "metadata": {
        "id": "pHxXwKhQE_Od"
      },
      "outputs": [],
      "source": [
        "from sklearn.preprocessing import StandardScaler\n",
        "\n",
        "scaler = StandardScaler()\n",
        "X_train_scaled = scaler.fit_transform(X_train_imputed)\n",
        "X_test_scaled = scaler.transform(X_test_imputed)"
      ]
    },
    {
      "cell_type": "code",
      "execution_count": 32,
      "metadata": {
        "id": "_FmrA2GoFCLe"
      },
      "outputs": [],
      "source": [
        "from sklearn.preprocessing import LabelEncoder\n",
        "\n",
        "encoder = LabelEncoder()\n",
        "y_train_encoded = encoder.fit_transform(y_train)\n",
        "y_test_encoded = encoder.transform(y_test)"
      ]
    },
    {
      "cell_type": "code",
      "execution_count": 33,
      "metadata": {
        "id": "sMnuJankFFmZ"
      },
      "outputs": [],
      "source": [
        "num_features = X_train_scaled.shape\n",
        "num_classes = len(np.unique(y_train_encoded))"
      ]
    },
    {
      "cell_type": "code",
      "execution_count": 34,
      "metadata": {
        "id": "io-iy-X3AQCr"
      },
      "outputs": [],
      "source": [
        "from tensorflow.keras.models import load_model\n",
        "base_model = tf.keras.models.load_model('/content/drive/MyDrive/my_network_model_reversed.h5')"
      ]
    },
    {
      "cell_type": "code",
      "execution_count": 35,
      "metadata": {
        "id": "fKx2xzjMFH9E"
      },
      "outputs": [],
      "source": [
        "from tensorflow.keras.layers import Dense\n",
        "\n",
        "\n",
        "base_model.pop()\n",
        "base_model.add(Dense(num_classes, activation='softmax'))\n",
        "\n",
        "from tensorflow.keras.models import Sequential\n",
        "new_model = Sequential()\n",
        "new_model.add(Dense(256, activation='relu', input_shape=(X_train_scaled.shape[1],)))\n",
        "\n",
        "\n",
        "for layer in base_model.layers[1:]:\n",
        "    new_model.add(layer)\n"
      ]
    },
    {
      "cell_type": "code",
      "execution_count": 36,
      "metadata": {
        "id": "_lllSwrYFM-v"
      },
      "outputs": [],
      "source": [
        "for layer in new_model.layers[:-1]:  \n",
        "    layer.trainable = False"
      ]
    },
    {
      "cell_type": "code",
      "execution_count": 38,
      "metadata": {
        "colab": {
          "base_uri": "https://localhost:8080/"
        },
        "id": "RbYvgtJsFPxX",
        "outputId": "79839fcc-75dd-4683-c957-f7389088cb92"
      },
      "outputs": [
        {
          "name": "stdout",
          "output_type": "stream",
          "text": [
            "Epoch 1/50\n",
            "9041/9041 [==============================] - 29s 3ms/step - loss: 0.6347 - accuracy: 0.7226 - val_loss: 0.5303 - val_accuracy: 0.8362\n",
            "Epoch 2/50\n",
            "9041/9041 [==============================] - 27s 3ms/step - loss: 0.6349 - accuracy: 0.7228 - val_loss: 0.5300 - val_accuracy: 0.8363\n",
            "Epoch 3/50\n",
            "9041/9041 [==============================] - 30s 3ms/step - loss: 0.6346 - accuracy: 0.7227 - val_loss: 0.5309 - val_accuracy: 0.8352\n",
            "Epoch 4/50\n",
            "9041/9041 [==============================] - 27s 3ms/step - loss: 0.6348 - accuracy: 0.7231 - val_loss: 0.5293 - val_accuracy: 0.8367\n",
            "Epoch 5/50\n",
            "9041/9041 [==============================] - 27s 3ms/step - loss: 0.6344 - accuracy: 0.7232 - val_loss: 0.5284 - val_accuracy: 0.8371\n",
            "Epoch 6/50\n",
            "9041/9041 [==============================] - 27s 3ms/step - loss: 0.6346 - accuracy: 0.7232 - val_loss: 0.5281 - val_accuracy: 0.8377\n",
            "Epoch 7/50\n",
            "9041/9041 [==============================] - 27s 3ms/step - loss: 0.6341 - accuracy: 0.7233 - val_loss: 0.5289 - val_accuracy: 0.8373\n",
            "Epoch 8/50\n",
            "9041/9041 [==============================] - 27s 3ms/step - loss: 0.6341 - accuracy: 0.7239 - val_loss: 0.5276 - val_accuracy: 0.8386\n",
            "Epoch 9/50\n",
            "9041/9041 [==============================] - 28s 3ms/step - loss: 0.6344 - accuracy: 0.7237 - val_loss: 0.5277 - val_accuracy: 0.8383\n",
            "Epoch 10/50\n",
            "9041/9041 [==============================] - 27s 3ms/step - loss: 0.6341 - accuracy: 0.7235 - val_loss: 0.5297 - val_accuracy: 0.8366\n",
            "Epoch 11/50\n",
            "9041/9041 [==============================] - 27s 3ms/step - loss: 0.6338 - accuracy: 0.7237 - val_loss: 0.5276 - val_accuracy: 0.8369\n",
            "Epoch 12/50\n",
            "9041/9041 [==============================] - 27s 3ms/step - loss: 0.6343 - accuracy: 0.7237 - val_loss: 0.5278 - val_accuracy: 0.8382\n",
            "Epoch 13/50\n",
            "9041/9041 [==============================] - 27s 3ms/step - loss: 0.6340 - accuracy: 0.7236 - val_loss: 0.5290 - val_accuracy: 0.8378\n",
            "Epoch 14/50\n",
            "9041/9041 [==============================] - 27s 3ms/step - loss: 0.6335 - accuracy: 0.7241 - val_loss: 0.5271 - val_accuracy: 0.8380\n",
            "Epoch 15/50\n",
            "9041/9041 [==============================] - 28s 3ms/step - loss: 0.6339 - accuracy: 0.7241 - val_loss: 0.5271 - val_accuracy: 0.8390\n",
            "Epoch 16/50\n",
            "9041/9041 [==============================] - 28s 3ms/step - loss: 0.6336 - accuracy: 0.7241 - val_loss: 0.5272 - val_accuracy: 0.8378\n",
            "Epoch 17/50\n",
            "9041/9041 [==============================] - 27s 3ms/step - loss: 0.6335 - accuracy: 0.7240 - val_loss: 0.5282 - val_accuracy: 0.8368\n",
            "Epoch 18/50\n",
            "9041/9041 [==============================] - 28s 3ms/step - loss: 0.6335 - accuracy: 0.7243 - val_loss: 0.5281 - val_accuracy: 0.8383\n",
            "Epoch 19/50\n",
            "9041/9041 [==============================] - 27s 3ms/step - loss: 0.6342 - accuracy: 0.7236 - val_loss: 0.5272 - val_accuracy: 0.8377\n",
            "Epoch 20/50\n",
            "9041/9041 [==============================] - 27s 3ms/step - loss: 0.6334 - accuracy: 0.7242 - val_loss: 0.5272 - val_accuracy: 0.8390\n",
            "Epoch 21/50\n",
            "9041/9041 [==============================] - 28s 3ms/step - loss: 0.6331 - accuracy: 0.7241 - val_loss: 0.5269 - val_accuracy: 0.8376\n",
            "Epoch 22/50\n",
            "9041/9041 [==============================] - 27s 3ms/step - loss: 0.6335 - accuracy: 0.7243 - val_loss: 0.5267 - val_accuracy: 0.8394\n",
            "Epoch 23/50\n",
            "9041/9041 [==============================] - 27s 3ms/step - loss: 0.6333 - accuracy: 0.7245 - val_loss: 0.5275 - val_accuracy: 0.8375\n",
            "Epoch 24/50\n",
            "9041/9041 [==============================] - 27s 3ms/step - loss: 0.6334 - accuracy: 0.7241 - val_loss: 0.5276 - val_accuracy: 0.8378\n",
            "Epoch 25/50\n",
            "9041/9041 [==============================] - 27s 3ms/step - loss: 0.6336 - accuracy: 0.7240 - val_loss: 0.5276 - val_accuracy: 0.8379\n",
            "Epoch 26/50\n",
            "9041/9041 [==============================] - 26s 3ms/step - loss: 0.6333 - accuracy: 0.7243 - val_loss: 0.5274 - val_accuracy: 0.8383\n",
            "Epoch 27/50\n",
            "9041/9041 [==============================] - 27s 3ms/step - loss: 0.6329 - accuracy: 0.7245 - val_loss: 0.5267 - val_accuracy: 0.8384\n",
            "Epoch 28/50\n",
            "9041/9041 [==============================] - 27s 3ms/step - loss: 0.6329 - accuracy: 0.7244 - val_loss: 0.5282 - val_accuracy: 0.8385\n",
            "Epoch 29/50\n",
            "9041/9041 [==============================] - 27s 3ms/step - loss: 0.6335 - accuracy: 0.7242 - val_loss: 0.5271 - val_accuracy: 0.8395\n",
            "Epoch 30/50\n",
            "9041/9041 [==============================] - 27s 3ms/step - loss: 0.6328 - accuracy: 0.7242 - val_loss: 0.5267 - val_accuracy: 0.8382\n",
            "Epoch 31/50\n",
            "9041/9041 [==============================] - 27s 3ms/step - loss: 0.6334 - accuracy: 0.7241 - val_loss: 0.5275 - val_accuracy: 0.8374\n",
            "Epoch 32/50\n",
            "9041/9041 [==============================] - 27s 3ms/step - loss: 0.6333 - accuracy: 0.7247 - val_loss: 0.5268 - val_accuracy: 0.8389\n",
            "Epoch 33/50\n",
            "9041/9041 [==============================] - 28s 3ms/step - loss: 0.6334 - accuracy: 0.7242 - val_loss: 0.5262 - val_accuracy: 0.8389\n",
            "Epoch 34/50\n",
            "9041/9041 [==============================] - 29s 3ms/step - loss: 0.6325 - accuracy: 0.7245 - val_loss: 0.5269 - val_accuracy: 0.8388\n",
            "Epoch 35/50\n",
            "9041/9041 [==============================] - 27s 3ms/step - loss: 0.6332 - accuracy: 0.7244 - val_loss: 0.5261 - val_accuracy: 0.8389\n",
            "Epoch 36/50\n",
            "9041/9041 [==============================] - 28s 3ms/step - loss: 0.6332 - accuracy: 0.7246 - val_loss: 0.5266 - val_accuracy: 0.8384\n",
            "Epoch 37/50\n",
            "9041/9041 [==============================] - 27s 3ms/step - loss: 0.6327 - accuracy: 0.7246 - val_loss: 0.5262 - val_accuracy: 0.8385\n",
            "Epoch 38/50\n",
            "9041/9041 [==============================] - 26s 3ms/step - loss: 0.6330 - accuracy: 0.7245 - val_loss: 0.5263 - val_accuracy: 0.8390\n",
            "Epoch 39/50\n",
            "9041/9041 [==============================] - 28s 3ms/step - loss: 0.6330 - accuracy: 0.7240 - val_loss: 0.5262 - val_accuracy: 0.8390\n",
            "Epoch 40/50\n",
            "9041/9041 [==============================] - 28s 3ms/step - loss: 0.6329 - accuracy: 0.7245 - val_loss: 0.5274 - val_accuracy: 0.8391\n",
            "Epoch 41/50\n",
            "9041/9041 [==============================] - 26s 3ms/step - loss: 0.6327 - accuracy: 0.7248 - val_loss: 0.5260 - val_accuracy: 0.8386\n",
            "Epoch 42/50\n",
            "9041/9041 [==============================] - 27s 3ms/step - loss: 0.6328 - accuracy: 0.7245 - val_loss: 0.5267 - val_accuracy: 0.8396\n",
            "Epoch 43/50\n",
            "9041/9041 [==============================] - 27s 3ms/step - loss: 0.6329 - accuracy: 0.7246 - val_loss: 0.5268 - val_accuracy: 0.8388\n",
            "Epoch 44/50\n",
            "9041/9041 [==============================] - 26s 3ms/step - loss: 0.6330 - accuracy: 0.7248 - val_loss: 0.5265 - val_accuracy: 0.8384\n",
            "Epoch 45/50\n",
            "9041/9041 [==============================] - 27s 3ms/step - loss: 0.6324 - accuracy: 0.7249 - val_loss: 0.5262 - val_accuracy: 0.8395\n",
            "Epoch 46/50\n",
            "9041/9041 [==============================] - 28s 3ms/step - loss: 0.6331 - accuracy: 0.7244 - val_loss: 0.5273 - val_accuracy: 0.8385\n",
            "Epoch 47/50\n",
            "9041/9041 [==============================] - 27s 3ms/step - loss: 0.6329 - accuracy: 0.7246 - val_loss: 0.5263 - val_accuracy: 0.8387\n",
            "Epoch 48/50\n",
            "9041/9041 [==============================] - 27s 3ms/step - loss: 0.6323 - accuracy: 0.7249 - val_loss: 0.5267 - val_accuracy: 0.8387\n",
            "Epoch 49/50\n",
            "9041/9041 [==============================] - 27s 3ms/step - loss: 0.6332 - accuracy: 0.7245 - val_loss: 0.5268 - val_accuracy: 0.8382\n",
            "Epoch 50/50\n",
            "9041/9041 [==============================] - 28s 3ms/step - loss: 0.6326 - accuracy: 0.7247 - val_loss: 0.5263 - val_accuracy: 0.8385\n",
            "44142/44142 [==============================] - 97s 2ms/step - loss: 0.5277 - accuracy: 0.8378\n",
            "Test Accuracy: 0.837829053401947\n"
          ]
        }
      ],
      "source": [
        "from tensorflow.keras.optimizers import Adam\n",
        "\n",
        "new_model.compile(optimizer=Adam(learning_rate=0.0001), loss='sparse_categorical_crossentropy', metrics=['accuracy'])\n",
        "\n",
        "history = new_model.fit(X_train_scaled, y_train_encoded, epochs=50, batch_size=500, validation_split=0.2)\n",
        "test_loss, test_acc = new_model.evaluate(X_test_scaled, y_test_encoded)\n",
        "print(f\"Test Accuracy: {test_acc}\")"
      ]
    }
  ],
  "metadata": {
    "accelerator": "GPU",
    "colab": {
      "authorship_tag": "ABX9TyPqDoldbxy/yktjuXUMB66E",
      "gpuType": "V100",
      "include_colab_link": true,
      "machine_shape": "hm",
      "provenance": []
    },
    "kernelspec": {
      "display_name": "Python 3",
      "name": "python3"
    },
    "language_info": {
      "name": "python"
    }
  },
  "nbformat": 4,
  "nbformat_minor": 0
}
